{
  "nbformat": 4,
  "nbformat_minor": 0,
  "metadata": {
    "colab": {
      "provenance": []
    },
    "kernelspec": {
      "name": "python3",
      "display_name": "Python 3"
    },
    "language_info": {
      "name": "python"
    }
  },
  "cells": [
    {
      "cell_type": "code",
      "source": [
        "!pip install unidecode"
      ],
      "metadata": {
        "id": "k7lerzSSJ_yc",
        "colab": {
          "base_uri": "https://localhost:8080/"
        },
        "outputId": "2e2ca974-ae9c-4d7a-be38-517261d51cef"
      },
      "execution_count": null,
      "outputs": [
        {
          "output_type": "stream",
          "name": "stdout",
          "text": [
            "Requirement already satisfied: unidecode in /usr/local/lib/python3.10/dist-packages (1.3.8)\n"
          ]
        }
      ]
    },
    {
      "cell_type": "code",
      "source": [
        "from google.colab import drive\n",
        "drive.mount('/content/drive')"
      ],
      "metadata": {
        "id": "tmaR3-3OudvV",
        "colab": {
          "base_uri": "https://localhost:8080/"
        },
        "outputId": "8d66b002-3e4c-418b-b739-3e58b871f133"
      },
      "execution_count": null,
      "outputs": [
        {
          "output_type": "stream",
          "name": "stdout",
          "text": [
            "Mounted at /content/drive\n"
          ]
        }
      ]
    },
    {
      "cell_type": "code",
      "execution_count": null,
      "metadata": {
        "id": "jxpWYLvCSZil"
      },
      "outputs": [],
      "source": [
        "import pandas as pd\n",
        "import matplotlib.pyplot as plt\n",
        "import numpy as np\n",
        "import seaborn as sns\n",
        "import re\n",
        "from collections import Counter\n",
        "from tabulate import tabulate\n",
        "from unidecode import unidecode\n",
        "from math import ceil\n",
        "from scipy import stats\n",
        "from scipy.stats import f_oneway\n",
        "import statsmodels.api as sm"
      ]
    },
    {
      "cell_type": "code",
      "source": [
        "dados = pd.read_excel('/content/drive/MyDrive/Gestão de Tempo Universitário (respostas).xlsx')"
      ],
      "metadata": {
        "id": "2opy4gxATDqk"
      },
      "execution_count": null,
      "outputs": []
    },
    {
      "cell_type": "code",
      "source": [
        "dados"
      ],
      "metadata": {
        "id": "D7n4Qs_-R1xB",
        "colab": {
          "base_uri": "https://localhost:8080/",
          "height": 930
        },
        "outputId": "2ae8b35a-1f46-4430-95cd-f8ecb19b597c"
      },
      "execution_count": null,
      "outputs": [
        {
          "output_type": "execute_result",
          "data": {
            "text/plain": [
              "                       data                                      nome  \\\n",
              "0   2024-04-05 13:44:20.544                                   Andréia   \n",
              "1   2024-04-05 13:44:57.696                    Leonardo Fiori Menegol   \n",
              "2   2024-04-05 13:46:01.632                               Joao Vitor    \n",
              "3   2024-04-05 13:46:15.456                                   Fellype   \n",
              "4   2024-04-05 13:46:44.832  Myriam Eduarda Bittencourt Strzalkowski    \n",
              "..                      ...                                       ...   \n",
              "97  2024-04-11 09:19:11.712                Maria Eduarda Brum Martins   \n",
              "98  2024-04-11 10:16:19.200                        Lucas de Lima Bica   \n",
              "99  2024-04-11 17:07:24.672                                   Jéssica   \n",
              "100 2024-04-11 17:20:55.968                            Bernardo Costa   \n",
              "101 2024-04-11 17:30:35.712                              Victor Raabe   \n",
              "\n",
              "    faixa_etaria     genero mais_de_uma_faculdade             universidade  \\\n",
              "0     21-24 anos   Feminino                   Não                   UFCSPA   \n",
              "1     21-24 anos  Masculino                   Não                   UFCSPA   \n",
              "2     21-24 anos  Masculino                   Não                   UFCSPA   \n",
              "3     21-24 anos  Masculino                   Não                 Unisinos   \n",
              "4     21-24 anos   Feminino                   Não                    UFRGS   \n",
              "..           ...        ...                   ...                      ...   \n",
              "97    17-20 anos   Feminino                   Não                   UFCSPA   \n",
              "98    17-20 anos  Masculino                   Sim  Universidade do Algarve   \n",
              "99    25-27 anos   Feminino                   Sim                    UFRGS   \n",
              "100   17-20 anos  Masculino                   Não                    UFRGS   \n",
              "101   17-20 anos  Masculino                   Sim                    UFRGS   \n",
              "\n",
              "                                                 curso  \\\n",
              "0                                Informática Biomédica   \n",
              "1                                Informática Biomédica   \n",
              "2                               Informática biomédica    \n",
              "3                                    Gestão Comercial    \n",
              "4                                           Enfermagem   \n",
              "..                                                 ...   \n",
              "97                                       Fisioterapia    \n",
              "98   Engenharia de Sistemas e Tecnologias Informáticas   \n",
              "99                                  Engenharia Química   \n",
              "100                                 Engenharia quimica   \n",
              "101                                 Engenharia Quimica   \n",
              "\n",
              "                                         curso_tratado  n_cadeiras trabalha  \\\n",
              "0                                informática biomédica           4      Sim   \n",
              "1                                informática biomédica           8      Sim   \n",
              "2                               informática biomédica            8      Sim   \n",
              "3                                    gestão comercial            5      Sim   \n",
              "4                                           enfermagem  5 cadeiras      Não   \n",
              "..                                                 ...         ...      ...   \n",
              "97                                       fisioterapia            9      Não   \n",
              "98   engenharia de sistemas e tecnologias informáticas           6      Sim   \n",
              "99                                  engenharia química           4      Não   \n",
              "100                                 engenharia quimica           8      Sim   \n",
              "101                                 engenharia quimica           5      Sim   \n",
              "\n",
              "           t_jornada  t_deslocamento semestres_faltantes  \\\n",
              "0            6 horas      2h ou mais                   2   \n",
              "1            6 horas         1h - 2h                   4   \n",
              "2            6 horas  Menos de 30min               3 / 4   \n",
              "3            8 horas  Menos de 30min                   3   \n",
              "4                NaN         1h - 2h         6 semestres   \n",
              "..               ...             ...                 ...   \n",
              "97               NaN       30min -1h                   6   \n",
              "98           5 horas         1h - 2h                   4   \n",
              "99               NaN      2h ou mais                   6   \n",
              "100  8 horas ou mais         1h - 2h                   4   \n",
              "101  8 horas ou mais         1h - 2h                   7   \n",
              "\n",
              "           metodo_organizacao  satisfacao  \\\n",
              "0                Não organizo           3   \n",
              "1                  Aplicativo           4   \n",
              "2                  Aplicativo           1   \n",
              "3                Não organizo           2   \n",
              "4    Agenda/planner físico(a)           2   \n",
              "..                        ...         ...   \n",
              "97                 Aplicativo           2   \n",
              "98               Não organizo           2   \n",
              "99   Agenda/planner físico(a)           2   \n",
              "100              Não organizo           4   \n",
              "101                Aplicativo           2   \n",
              "\n",
              "                                                desejo  \\\n",
              "0    Descanso, Desenvolvimento pessoal, Estudos, Fa...   \n",
              "1    Descanso, Desenvolvimento pessoal, Estudos, Saúde   \n",
              "2    Descanso, Desenvolvimento pessoal, Estudos, Fa...   \n",
              "3                             Descanso, Família, Lazer   \n",
              "4           Descanso, Desenvolvimento pessoal, Estudos   \n",
              "..                                                 ...   \n",
              "97               Desenvolvimento pessoal, Lazer, Saúde   \n",
              "98   Descanso, Desenvolvimento pessoal, Estudos, La...   \n",
              "99                          Descanso, Estudos, Família   \n",
              "100                           Descanso, Estudos, Saúde   \n",
              "101  Descanso, Desenvolvimento pessoal, Estudos, Saúde   \n",
              "\n",
              "                                           dificuldade  \n",
              "0                                  Faculdade, Trabalho  \n",
              "1     Desorganização, Faculdade, Obrigações familiares  \n",
              "2              Faculdade, Saúde mental, Procrastinação  \n",
              "3            Desorganização, Faculdade, Procrastinação  \n",
              "4              Faculdade, Saúde mental, Procrastinação  \n",
              "..                                                 ...  \n",
              "97   Desorganização, Faculdade, Obrigações familiar...  \n",
              "98   Desorganização, Faculdade, Obrigações familiar...  \n",
              "99   Faculdade, Obrigações familiares, Saúde mental...  \n",
              "100                                Faculdade, Trabalho  \n",
              "101                  Faculdade, Trabalho, Saúde mental  \n",
              "\n",
              "[102 rows x 17 columns]"
            ],
            "text/html": [
              "\n",
              "  <div id=\"df-31902d2c-fe54-4eb3-94ea-85535aea8d2b\" class=\"colab-df-container\">\n",
              "    <div>\n",
              "<style scoped>\n",
              "    .dataframe tbody tr th:only-of-type {\n",
              "        vertical-align: middle;\n",
              "    }\n",
              "\n",
              "    .dataframe tbody tr th {\n",
              "        vertical-align: top;\n",
              "    }\n",
              "\n",
              "    .dataframe thead th {\n",
              "        text-align: right;\n",
              "    }\n",
              "</style>\n",
              "<table border=\"1\" class=\"dataframe\">\n",
              "  <thead>\n",
              "    <tr style=\"text-align: right;\">\n",
              "      <th></th>\n",
              "      <th>data</th>\n",
              "      <th>nome</th>\n",
              "      <th>faixa_etaria</th>\n",
              "      <th>genero</th>\n",
              "      <th>mais_de_uma_faculdade</th>\n",
              "      <th>universidade</th>\n",
              "      <th>curso</th>\n",
              "      <th>curso_tratado</th>\n",
              "      <th>n_cadeiras</th>\n",
              "      <th>trabalha</th>\n",
              "      <th>t_jornada</th>\n",
              "      <th>t_deslocamento</th>\n",
              "      <th>semestres_faltantes</th>\n",
              "      <th>metodo_organizacao</th>\n",
              "      <th>satisfacao</th>\n",
              "      <th>desejo</th>\n",
              "      <th>dificuldade</th>\n",
              "    </tr>\n",
              "  </thead>\n",
              "  <tbody>\n",
              "    <tr>\n",
              "      <th>0</th>\n",
              "      <td>2024-04-05 13:44:20.544</td>\n",
              "      <td>Andréia</td>\n",
              "      <td>21-24 anos</td>\n",
              "      <td>Feminino</td>\n",
              "      <td>Não</td>\n",
              "      <td>UFCSPA</td>\n",
              "      <td>Informática Biomédica</td>\n",
              "      <td>informática biomédica</td>\n",
              "      <td>4</td>\n",
              "      <td>Sim</td>\n",
              "      <td>6 horas</td>\n",
              "      <td>2h ou mais</td>\n",
              "      <td>2</td>\n",
              "      <td>Não organizo</td>\n",
              "      <td>3</td>\n",
              "      <td>Descanso, Desenvolvimento pessoal, Estudos, Fa...</td>\n",
              "      <td>Faculdade, Trabalho</td>\n",
              "    </tr>\n",
              "    <tr>\n",
              "      <th>1</th>\n",
              "      <td>2024-04-05 13:44:57.696</td>\n",
              "      <td>Leonardo Fiori Menegol</td>\n",
              "      <td>21-24 anos</td>\n",
              "      <td>Masculino</td>\n",
              "      <td>Não</td>\n",
              "      <td>UFCSPA</td>\n",
              "      <td>Informática Biomédica</td>\n",
              "      <td>informática biomédica</td>\n",
              "      <td>8</td>\n",
              "      <td>Sim</td>\n",
              "      <td>6 horas</td>\n",
              "      <td>1h - 2h</td>\n",
              "      <td>4</td>\n",
              "      <td>Aplicativo</td>\n",
              "      <td>4</td>\n",
              "      <td>Descanso, Desenvolvimento pessoal, Estudos, Saúde</td>\n",
              "      <td>Desorganização, Faculdade, Obrigações familiares</td>\n",
              "    </tr>\n",
              "    <tr>\n",
              "      <th>2</th>\n",
              "      <td>2024-04-05 13:46:01.632</td>\n",
              "      <td>Joao Vitor</td>\n",
              "      <td>21-24 anos</td>\n",
              "      <td>Masculino</td>\n",
              "      <td>Não</td>\n",
              "      <td>UFCSPA</td>\n",
              "      <td>Informática biomédica</td>\n",
              "      <td>informática biomédica</td>\n",
              "      <td>8</td>\n",
              "      <td>Sim</td>\n",
              "      <td>6 horas</td>\n",
              "      <td>Menos de 30min</td>\n",
              "      <td>3 / 4</td>\n",
              "      <td>Aplicativo</td>\n",
              "      <td>1</td>\n",
              "      <td>Descanso, Desenvolvimento pessoal, Estudos, Fa...</td>\n",
              "      <td>Faculdade, Saúde mental, Procrastinação</td>\n",
              "    </tr>\n",
              "    <tr>\n",
              "      <th>3</th>\n",
              "      <td>2024-04-05 13:46:15.456</td>\n",
              "      <td>Fellype</td>\n",
              "      <td>21-24 anos</td>\n",
              "      <td>Masculino</td>\n",
              "      <td>Não</td>\n",
              "      <td>Unisinos</td>\n",
              "      <td>Gestão Comercial</td>\n",
              "      <td>gestão comercial</td>\n",
              "      <td>5</td>\n",
              "      <td>Sim</td>\n",
              "      <td>8 horas</td>\n",
              "      <td>Menos de 30min</td>\n",
              "      <td>3</td>\n",
              "      <td>Não organizo</td>\n",
              "      <td>2</td>\n",
              "      <td>Descanso, Família, Lazer</td>\n",
              "      <td>Desorganização, Faculdade, Procrastinação</td>\n",
              "    </tr>\n",
              "    <tr>\n",
              "      <th>4</th>\n",
              "      <td>2024-04-05 13:46:44.832</td>\n",
              "      <td>Myriam Eduarda Bittencourt Strzalkowski</td>\n",
              "      <td>21-24 anos</td>\n",
              "      <td>Feminino</td>\n",
              "      <td>Não</td>\n",
              "      <td>UFRGS</td>\n",
              "      <td>Enfermagem</td>\n",
              "      <td>enfermagem</td>\n",
              "      <td>5 cadeiras</td>\n",
              "      <td>Não</td>\n",
              "      <td>NaN</td>\n",
              "      <td>1h - 2h</td>\n",
              "      <td>6 semestres</td>\n",
              "      <td>Agenda/planner físico(a)</td>\n",
              "      <td>2</td>\n",
              "      <td>Descanso, Desenvolvimento pessoal, Estudos</td>\n",
              "      <td>Faculdade, Saúde mental, Procrastinação</td>\n",
              "    </tr>\n",
              "    <tr>\n",
              "      <th>...</th>\n",
              "      <td>...</td>\n",
              "      <td>...</td>\n",
              "      <td>...</td>\n",
              "      <td>...</td>\n",
              "      <td>...</td>\n",
              "      <td>...</td>\n",
              "      <td>...</td>\n",
              "      <td>...</td>\n",
              "      <td>...</td>\n",
              "      <td>...</td>\n",
              "      <td>...</td>\n",
              "      <td>...</td>\n",
              "      <td>...</td>\n",
              "      <td>...</td>\n",
              "      <td>...</td>\n",
              "      <td>...</td>\n",
              "      <td>...</td>\n",
              "    </tr>\n",
              "    <tr>\n",
              "      <th>97</th>\n",
              "      <td>2024-04-11 09:19:11.712</td>\n",
              "      <td>Maria Eduarda Brum Martins</td>\n",
              "      <td>17-20 anos</td>\n",
              "      <td>Feminino</td>\n",
              "      <td>Não</td>\n",
              "      <td>UFCSPA</td>\n",
              "      <td>Fisioterapia</td>\n",
              "      <td>fisioterapia</td>\n",
              "      <td>9</td>\n",
              "      <td>Não</td>\n",
              "      <td>NaN</td>\n",
              "      <td>30min -1h</td>\n",
              "      <td>6</td>\n",
              "      <td>Aplicativo</td>\n",
              "      <td>2</td>\n",
              "      <td>Desenvolvimento pessoal, Lazer, Saúde</td>\n",
              "      <td>Desorganização, Faculdade, Obrigações familiar...</td>\n",
              "    </tr>\n",
              "    <tr>\n",
              "      <th>98</th>\n",
              "      <td>2024-04-11 10:16:19.200</td>\n",
              "      <td>Lucas de Lima Bica</td>\n",
              "      <td>17-20 anos</td>\n",
              "      <td>Masculino</td>\n",
              "      <td>Sim</td>\n",
              "      <td>Universidade do Algarve</td>\n",
              "      <td>Engenharia de Sistemas e Tecnologias Informáticas</td>\n",
              "      <td>engenharia de sistemas e tecnologias informáticas</td>\n",
              "      <td>6</td>\n",
              "      <td>Sim</td>\n",
              "      <td>5 horas</td>\n",
              "      <td>1h - 2h</td>\n",
              "      <td>4</td>\n",
              "      <td>Não organizo</td>\n",
              "      <td>2</td>\n",
              "      <td>Descanso, Desenvolvimento pessoal, Estudos, La...</td>\n",
              "      <td>Desorganização, Faculdade, Obrigações familiar...</td>\n",
              "    </tr>\n",
              "    <tr>\n",
              "      <th>99</th>\n",
              "      <td>2024-04-11 17:07:24.672</td>\n",
              "      <td>Jéssica</td>\n",
              "      <td>25-27 anos</td>\n",
              "      <td>Feminino</td>\n",
              "      <td>Sim</td>\n",
              "      <td>UFRGS</td>\n",
              "      <td>Engenharia Química</td>\n",
              "      <td>engenharia química</td>\n",
              "      <td>4</td>\n",
              "      <td>Não</td>\n",
              "      <td>NaN</td>\n",
              "      <td>2h ou mais</td>\n",
              "      <td>6</td>\n",
              "      <td>Agenda/planner físico(a)</td>\n",
              "      <td>2</td>\n",
              "      <td>Descanso, Estudos, Família</td>\n",
              "      <td>Faculdade, Obrigações familiares, Saúde mental...</td>\n",
              "    </tr>\n",
              "    <tr>\n",
              "      <th>100</th>\n",
              "      <td>2024-04-11 17:20:55.968</td>\n",
              "      <td>Bernardo Costa</td>\n",
              "      <td>17-20 anos</td>\n",
              "      <td>Masculino</td>\n",
              "      <td>Não</td>\n",
              "      <td>UFRGS</td>\n",
              "      <td>Engenharia quimica</td>\n",
              "      <td>engenharia quimica</td>\n",
              "      <td>8</td>\n",
              "      <td>Sim</td>\n",
              "      <td>8 horas ou mais</td>\n",
              "      <td>1h - 2h</td>\n",
              "      <td>4</td>\n",
              "      <td>Não organizo</td>\n",
              "      <td>4</td>\n",
              "      <td>Descanso, Estudos, Saúde</td>\n",
              "      <td>Faculdade, Trabalho</td>\n",
              "    </tr>\n",
              "    <tr>\n",
              "      <th>101</th>\n",
              "      <td>2024-04-11 17:30:35.712</td>\n",
              "      <td>Victor Raabe</td>\n",
              "      <td>17-20 anos</td>\n",
              "      <td>Masculino</td>\n",
              "      <td>Sim</td>\n",
              "      <td>UFRGS</td>\n",
              "      <td>Engenharia Quimica</td>\n",
              "      <td>engenharia quimica</td>\n",
              "      <td>5</td>\n",
              "      <td>Sim</td>\n",
              "      <td>8 horas ou mais</td>\n",
              "      <td>1h - 2h</td>\n",
              "      <td>7</td>\n",
              "      <td>Aplicativo</td>\n",
              "      <td>2</td>\n",
              "      <td>Descanso, Desenvolvimento pessoal, Estudos, Saúde</td>\n",
              "      <td>Faculdade, Trabalho, Saúde mental</td>\n",
              "    </tr>\n",
              "  </tbody>\n",
              "</table>\n",
              "<p>102 rows × 17 columns</p>\n",
              "</div>\n",
              "    <div class=\"colab-df-buttons\">\n",
              "\n",
              "  <div class=\"colab-df-container\">\n",
              "    <button class=\"colab-df-convert\" onclick=\"convertToInteractive('df-31902d2c-fe54-4eb3-94ea-85535aea8d2b')\"\n",
              "            title=\"Convert this dataframe to an interactive table.\"\n",
              "            style=\"display:none;\">\n",
              "\n",
              "  <svg xmlns=\"http://www.w3.org/2000/svg\" height=\"24px\" viewBox=\"0 -960 960 960\">\n",
              "    <path d=\"M120-120v-720h720v720H120Zm60-500h600v-160H180v160Zm220 220h160v-160H400v160Zm0 220h160v-160H400v160ZM180-400h160v-160H180v160Zm440 0h160v-160H620v160ZM180-180h160v-160H180v160Zm440 0h160v-160H620v160Z\"/>\n",
              "  </svg>\n",
              "    </button>\n",
              "\n",
              "  <style>\n",
              "    .colab-df-container {\n",
              "      display:flex;\n",
              "      gap: 12px;\n",
              "    }\n",
              "\n",
              "    .colab-df-convert {\n",
              "      background-color: #E8F0FE;\n",
              "      border: none;\n",
              "      border-radius: 50%;\n",
              "      cursor: pointer;\n",
              "      display: none;\n",
              "      fill: #1967D2;\n",
              "      height: 32px;\n",
              "      padding: 0 0 0 0;\n",
              "      width: 32px;\n",
              "    }\n",
              "\n",
              "    .colab-df-convert:hover {\n",
              "      background-color: #E2EBFA;\n",
              "      box-shadow: 0px 1px 2px rgba(60, 64, 67, 0.3), 0px 1px 3px 1px rgba(60, 64, 67, 0.15);\n",
              "      fill: #174EA6;\n",
              "    }\n",
              "\n",
              "    .colab-df-buttons div {\n",
              "      margin-bottom: 4px;\n",
              "    }\n",
              "\n",
              "    [theme=dark] .colab-df-convert {\n",
              "      background-color: #3B4455;\n",
              "      fill: #D2E3FC;\n",
              "    }\n",
              "\n",
              "    [theme=dark] .colab-df-convert:hover {\n",
              "      background-color: #434B5C;\n",
              "      box-shadow: 0px 1px 3px 1px rgba(0, 0, 0, 0.15);\n",
              "      filter: drop-shadow(0px 1px 2px rgba(0, 0, 0, 0.3));\n",
              "      fill: #FFFFFF;\n",
              "    }\n",
              "  </style>\n",
              "\n",
              "    <script>\n",
              "      const buttonEl =\n",
              "        document.querySelector('#df-31902d2c-fe54-4eb3-94ea-85535aea8d2b button.colab-df-convert');\n",
              "      buttonEl.style.display =\n",
              "        google.colab.kernel.accessAllowed ? 'block' : 'none';\n",
              "\n",
              "      async function convertToInteractive(key) {\n",
              "        const element = document.querySelector('#df-31902d2c-fe54-4eb3-94ea-85535aea8d2b');\n",
              "        const dataTable =\n",
              "          await google.colab.kernel.invokeFunction('convertToInteractive',\n",
              "                                                    [key], {});\n",
              "        if (!dataTable) return;\n",
              "\n",
              "        const docLinkHtml = 'Like what you see? Visit the ' +\n",
              "          '<a target=\"_blank\" href=https://colab.research.google.com/notebooks/data_table.ipynb>data table notebook</a>'\n",
              "          + ' to learn more about interactive tables.';\n",
              "        element.innerHTML = '';\n",
              "        dataTable['output_type'] = 'display_data';\n",
              "        await google.colab.output.renderOutput(dataTable, element);\n",
              "        const docLink = document.createElement('div');\n",
              "        docLink.innerHTML = docLinkHtml;\n",
              "        element.appendChild(docLink);\n",
              "      }\n",
              "    </script>\n",
              "  </div>\n",
              "\n",
              "\n",
              "<div id=\"df-0968857c-09ac-4c6c-8e9b-26c8102311fe\">\n",
              "  <button class=\"colab-df-quickchart\" onclick=\"quickchart('df-0968857c-09ac-4c6c-8e9b-26c8102311fe')\"\n",
              "            title=\"Suggest charts\"\n",
              "            style=\"display:none;\">\n",
              "\n",
              "<svg xmlns=\"http://www.w3.org/2000/svg\" height=\"24px\"viewBox=\"0 0 24 24\"\n",
              "     width=\"24px\">\n",
              "    <g>\n",
              "        <path d=\"M19 3H5c-1.1 0-2 .9-2 2v14c0 1.1.9 2 2 2h14c1.1 0 2-.9 2-2V5c0-1.1-.9-2-2-2zM9 17H7v-7h2v7zm4 0h-2V7h2v10zm4 0h-2v-4h2v4z\"/>\n",
              "    </g>\n",
              "</svg>\n",
              "  </button>\n",
              "\n",
              "<style>\n",
              "  .colab-df-quickchart {\n",
              "      --bg-color: #E8F0FE;\n",
              "      --fill-color: #1967D2;\n",
              "      --hover-bg-color: #E2EBFA;\n",
              "      --hover-fill-color: #174EA6;\n",
              "      --disabled-fill-color: #AAA;\n",
              "      --disabled-bg-color: #DDD;\n",
              "  }\n",
              "\n",
              "  [theme=dark] .colab-df-quickchart {\n",
              "      --bg-color: #3B4455;\n",
              "      --fill-color: #D2E3FC;\n",
              "      --hover-bg-color: #434B5C;\n",
              "      --hover-fill-color: #FFFFFF;\n",
              "      --disabled-bg-color: #3B4455;\n",
              "      --disabled-fill-color: #666;\n",
              "  }\n",
              "\n",
              "  .colab-df-quickchart {\n",
              "    background-color: var(--bg-color);\n",
              "    border: none;\n",
              "    border-radius: 50%;\n",
              "    cursor: pointer;\n",
              "    display: none;\n",
              "    fill: var(--fill-color);\n",
              "    height: 32px;\n",
              "    padding: 0;\n",
              "    width: 32px;\n",
              "  }\n",
              "\n",
              "  .colab-df-quickchart:hover {\n",
              "    background-color: var(--hover-bg-color);\n",
              "    box-shadow: 0 1px 2px rgba(60, 64, 67, 0.3), 0 1px 3px 1px rgba(60, 64, 67, 0.15);\n",
              "    fill: var(--button-hover-fill-color);\n",
              "  }\n",
              "\n",
              "  .colab-df-quickchart-complete:disabled,\n",
              "  .colab-df-quickchart-complete:disabled:hover {\n",
              "    background-color: var(--disabled-bg-color);\n",
              "    fill: var(--disabled-fill-color);\n",
              "    box-shadow: none;\n",
              "  }\n",
              "\n",
              "  .colab-df-spinner {\n",
              "    border: 2px solid var(--fill-color);\n",
              "    border-color: transparent;\n",
              "    border-bottom-color: var(--fill-color);\n",
              "    animation:\n",
              "      spin 1s steps(1) infinite;\n",
              "  }\n",
              "\n",
              "  @keyframes spin {\n",
              "    0% {\n",
              "      border-color: transparent;\n",
              "      border-bottom-color: var(--fill-color);\n",
              "      border-left-color: var(--fill-color);\n",
              "    }\n",
              "    20% {\n",
              "      border-color: transparent;\n",
              "      border-left-color: var(--fill-color);\n",
              "      border-top-color: var(--fill-color);\n",
              "    }\n",
              "    30% {\n",
              "      border-color: transparent;\n",
              "      border-left-color: var(--fill-color);\n",
              "      border-top-color: var(--fill-color);\n",
              "      border-right-color: var(--fill-color);\n",
              "    }\n",
              "    40% {\n",
              "      border-color: transparent;\n",
              "      border-right-color: var(--fill-color);\n",
              "      border-top-color: var(--fill-color);\n",
              "    }\n",
              "    60% {\n",
              "      border-color: transparent;\n",
              "      border-right-color: var(--fill-color);\n",
              "    }\n",
              "    80% {\n",
              "      border-color: transparent;\n",
              "      border-right-color: var(--fill-color);\n",
              "      border-bottom-color: var(--fill-color);\n",
              "    }\n",
              "    90% {\n",
              "      border-color: transparent;\n",
              "      border-bottom-color: var(--fill-color);\n",
              "    }\n",
              "  }\n",
              "</style>\n",
              "\n",
              "  <script>\n",
              "    async function quickchart(key) {\n",
              "      const quickchartButtonEl =\n",
              "        document.querySelector('#' + key + ' button');\n",
              "      quickchartButtonEl.disabled = true;  // To prevent multiple clicks.\n",
              "      quickchartButtonEl.classList.add('colab-df-spinner');\n",
              "      try {\n",
              "        const charts = await google.colab.kernel.invokeFunction(\n",
              "            'suggestCharts', [key], {});\n",
              "      } catch (error) {\n",
              "        console.error('Error during call to suggestCharts:', error);\n",
              "      }\n",
              "      quickchartButtonEl.classList.remove('colab-df-spinner');\n",
              "      quickchartButtonEl.classList.add('colab-df-quickchart-complete');\n",
              "    }\n",
              "    (() => {\n",
              "      let quickchartButtonEl =\n",
              "        document.querySelector('#df-0968857c-09ac-4c6c-8e9b-26c8102311fe button');\n",
              "      quickchartButtonEl.style.display =\n",
              "        google.colab.kernel.accessAllowed ? 'block' : 'none';\n",
              "    })();\n",
              "  </script>\n",
              "</div>\n",
              "\n",
              "  <div id=\"id_0ad6dd79-1a77-4e20-b0cb-575063a17add\">\n",
              "    <style>\n",
              "      .colab-df-generate {\n",
              "        background-color: #E8F0FE;\n",
              "        border: none;\n",
              "        border-radius: 50%;\n",
              "        cursor: pointer;\n",
              "        display: none;\n",
              "        fill: #1967D2;\n",
              "        height: 32px;\n",
              "        padding: 0 0 0 0;\n",
              "        width: 32px;\n",
              "      }\n",
              "\n",
              "      .colab-df-generate:hover {\n",
              "        background-color: #E2EBFA;\n",
              "        box-shadow: 0px 1px 2px rgba(60, 64, 67, 0.3), 0px 1px 3px 1px rgba(60, 64, 67, 0.15);\n",
              "        fill: #174EA6;\n",
              "      }\n",
              "\n",
              "      [theme=dark] .colab-df-generate {\n",
              "        background-color: #3B4455;\n",
              "        fill: #D2E3FC;\n",
              "      }\n",
              "\n",
              "      [theme=dark] .colab-df-generate:hover {\n",
              "        background-color: #434B5C;\n",
              "        box-shadow: 0px 1px 3px 1px rgba(0, 0, 0, 0.15);\n",
              "        filter: drop-shadow(0px 1px 2px rgba(0, 0, 0, 0.3));\n",
              "        fill: #FFFFFF;\n",
              "      }\n",
              "    </style>\n",
              "    <button class=\"colab-df-generate\" onclick=\"generateWithVariable('dados')\"\n",
              "            title=\"Generate code using this dataframe.\"\n",
              "            style=\"display:none;\">\n",
              "\n",
              "  <svg xmlns=\"http://www.w3.org/2000/svg\" height=\"24px\"viewBox=\"0 0 24 24\"\n",
              "       width=\"24px\">\n",
              "    <path d=\"M7,19H8.4L18.45,9,17,7.55,7,17.6ZM5,21V16.75L18.45,3.32a2,2,0,0,1,2.83,0l1.4,1.43a1.91,1.91,0,0,1,.58,1.4,1.91,1.91,0,0,1-.58,1.4L9.25,21ZM18.45,9,17,7.55Zm-12,3A5.31,5.31,0,0,0,4.9,8.1,5.31,5.31,0,0,0,1,6.5,5.31,5.31,0,0,0,4.9,4.9,5.31,5.31,0,0,0,6.5,1,5.31,5.31,0,0,0,8.1,4.9,5.31,5.31,0,0,0,12,6.5,5.46,5.46,0,0,0,6.5,12Z\"/>\n",
              "  </svg>\n",
              "    </button>\n",
              "    <script>\n",
              "      (() => {\n",
              "      const buttonEl =\n",
              "        document.querySelector('#id_0ad6dd79-1a77-4e20-b0cb-575063a17add button.colab-df-generate');\n",
              "      buttonEl.style.display =\n",
              "        google.colab.kernel.accessAllowed ? 'block' : 'none';\n",
              "\n",
              "      buttonEl.onclick = () => {\n",
              "        google.colab.notebook.generateWithVariable('dados');\n",
              "      }\n",
              "      })();\n",
              "    </script>\n",
              "  </div>\n",
              "\n",
              "    </div>\n",
              "  </div>\n"
            ],
            "application/vnd.google.colaboratory.intrinsic+json": {
              "type": "dataframe",
              "variable_name": "dados",
              "summary": "{\n  \"name\": \"dados\",\n  \"rows\": 102,\n  \"fields\": [\n    {\n      \"column\": \"data\",\n      \"properties\": {\n        \"dtype\": \"date\",\n        \"min\": \"2024-04-05 13:44:20.544000\",\n        \"max\": \"2024-04-11 17:30:35.712000\",\n        \"num_unique_values\": 102,\n        \"samples\": [\n          \"2024-04-05 14:57:00.288000\",\n          \"2024-04-05 22:35:21.408000\",\n          \"2024-04-05 20:39:05.472000\"\n        ],\n        \"semantic_type\": \"\",\n        \"description\": \"\"\n      }\n    },\n    {\n      \"column\": \"nome\",\n      \"properties\": {\n        \"dtype\": \"string\",\n        \"num_unique_values\": 101,\n        \"samples\": [\n          \"Heitor\",\n          \"Raphaella\",\n          \"Luiza\"\n        ],\n        \"semantic_type\": \"\",\n        \"description\": \"\"\n      }\n    },\n    {\n      \"column\": \"faixa_etaria\",\n      \"properties\": {\n        \"dtype\": \"category\",\n        \"num_unique_values\": 4,\n        \"samples\": [\n          \"17-20 anos\",\n          \"28+ anos\",\n          \"21-24 anos\"\n        ],\n        \"semantic_type\": \"\",\n        \"description\": \"\"\n      }\n    },\n    {\n      \"column\": \"genero\",\n      \"properties\": {\n        \"dtype\": \"category\",\n        \"num_unique_values\": 4,\n        \"samples\": [\n          \"Masculino\",\n          \"Prefiro n\\u00e3o respoder\",\n          \"Feminino\"\n        ],\n        \"semantic_type\": \"\",\n        \"description\": \"\"\n      }\n    },\n    {\n      \"column\": \"mais_de_uma_faculdade\",\n      \"properties\": {\n        \"dtype\": \"category\",\n        \"num_unique_values\": 2,\n        \"samples\": [\n          \"Sim\",\n          \"N\\u00e3o\"\n        ],\n        \"semantic_type\": \"\",\n        \"description\": \"\"\n      }\n    },\n    {\n      \"column\": \"universidade\",\n      \"properties\": {\n        \"dtype\": \"category\",\n        \"num_unique_values\": 16,\n        \"samples\": [\n          \"UFCSPA\",\n          \"Unisinos\"\n        ],\n        \"semantic_type\": \"\",\n        \"description\": \"\"\n      }\n    },\n    {\n      \"column\": \"curso\",\n      \"properties\": {\n        \"dtype\": \"string\",\n        \"num_unique_values\": 64,\n        \"samples\": [\n          \"An\\u00e1lise e Desenvolvimento de sistemas \",\n          \"Fonoaudiologia\"\n        ],\n        \"semantic_type\": \"\",\n        \"description\": \"\"\n      }\n    },\n    {\n      \"column\": \"curso_tratado\",\n      \"properties\": {\n        \"dtype\": \"string\",\n        \"num_unique_values\": 53,\n        \"samples\": [\n          \"fisioterapia\",\n          \"letras ingl\\u00eas\"\n        ],\n        \"semantic_type\": \"\",\n        \"description\": \"\"\n      }\n    },\n    {\n      \"column\": \"n_cadeiras\",\n      \"properties\": {\n        \"dtype\": \"category\",\n        \"num_unique_values\": 21,\n        \"samples\": [\n          4,\n          \"1 tcc\"\n        ],\n        \"semantic_type\": \"\",\n        \"description\": \"\"\n      }\n    },\n    {\n      \"column\": \"trabalha\",\n      \"properties\": {\n        \"dtype\": \"category\",\n        \"num_unique_values\": 2,\n        \"samples\": [\n          \"N\\u00e3o\",\n          \"Sim\"\n        ],\n        \"semantic_type\": \"\",\n        \"description\": \"\"\n      }\n    },\n    {\n      \"column\": \"t_jornada\",\n      \"properties\": {\n        \"dtype\": \"category\",\n        \"num_unique_values\": 5,\n        \"samples\": [\n          \"8 horas\",\n          \"4 horas\"\n        ],\n        \"semantic_type\": \"\",\n        \"description\": \"\"\n      }\n    },\n    {\n      \"column\": \"t_deslocamento\",\n      \"properties\": {\n        \"dtype\": \"category\",\n        \"num_unique_values\": 4,\n        \"samples\": [\n          \"1h - 2h\",\n          \"30min -1h\"\n        ],\n        \"semantic_type\": \"\",\n        \"description\": \"\"\n      }\n    },\n    {\n      \"column\": \"semestres_faltantes\",\n      \"properties\": {\n        \"dtype\": \"category\",\n        \"num_unique_values\": 28,\n        \"samples\": [\n          \"5-6\",\n          \"5 semestres\"\n        ],\n        \"semantic_type\": \"\",\n        \"description\": \"\"\n      }\n    },\n    {\n      \"column\": \"metodo_organizacao\",\n      \"properties\": {\n        \"dtype\": \"category\",\n        \"num_unique_values\": 3,\n        \"samples\": [\n          \"N\\u00e3o organizo\",\n          \"Aplicativo\"\n        ],\n        \"semantic_type\": \"\",\n        \"description\": \"\"\n      }\n    },\n    {\n      \"column\": \"satisfacao\",\n      \"properties\": {\n        \"dtype\": \"number\",\n        \"std\": 0,\n        \"min\": 1,\n        \"max\": 5,\n        \"num_unique_values\": 5,\n        \"samples\": [\n          4,\n          5\n        ],\n        \"semantic_type\": \"\",\n        \"description\": \"\"\n      }\n    },\n    {\n      \"column\": \"desejo\",\n      \"properties\": {\n        \"dtype\": \"category\",\n        \"num_unique_values\": 46,\n        \"samples\": [\n          \"Descanso, Desenvolvimento pessoal, Estudos, Lazer\",\n          \"Descanso, Desenvolvimento pessoal, Fam\\u00edlia, Lazer, Sa\\u00fade\"\n        ],\n        \"semantic_type\": \"\",\n        \"description\": \"\"\n      }\n    },\n    {\n      \"column\": \"dificuldade\",\n      \"properties\": {\n        \"dtype\": \"category\",\n        \"num_unique_values\": 36,\n        \"samples\": [\n          \"Faculdade, Obriga\\u00e7\\u00f5es familiares, Sa\\u00fade mental, Procrastina\\u00e7\\u00e3o\",\n          \"Faculdade, Trabalho, Sa\\u00fade mental\"\n        ],\n        \"semantic_type\": \"\",\n        \"description\": \"\"\n      }\n    }\n  ]\n}"
            }
          },
          "metadata": {},
          "execution_count": 15
        }
      ]
    },
    {
      "cell_type": "markdown",
      "source": [
        "# Faixa etária"
      ],
      "metadata": {
        "id": "dV1NewRi_UHS"
      }
    },
    {
      "cell_type": "code",
      "source": [
        "frequencia_absoluta = dados['faixa_etaria'].value_counts()\n",
        "frequencia_relativa = (frequencia_absoluta / frequencia_absoluta.sum()).round(2)\n",
        "tabela_final = pd.DataFrame({\n",
        "    'Faixa etária': frequencia_absoluta.index,\n",
        "    'Frequência absoluta': frequencia_absoluta.values,\n",
        "    'Frequência relativa': frequencia_relativa.values\n",
        "})\n",
        "\n",
        "tamanho_amostra = len(dados)\n",
        "proporcao = frequencia_relativa\n",
        "z_score = stats.norm.ppf(0.975)\n",
        "erro_padrao = np.sqrt(proporcao * (1 - proporcao) / tamanho_amostra)\n",
        "margem_erro = z_score * erro_padrao\n",
        "intervalo_confianca_inferior = (proporcao - margem_erro).round(2)\n",
        "intervalo_confianca_superior = (proporcao + margem_erro).round(2)\n",
        "intervalo_confianca = list(zip(intervalo_confianca_inferior, intervalo_confianca_superior))\n",
        "\n",
        "tabela_final['Intervalo de Confiança'] = intervalo_confianca\n",
        "\n",
        "print(tabulate(tabela_final, headers='keys', tablefmt='pretty', showindex=False))"
      ],
      "metadata": {
        "id": "3lUgieyH-24m",
        "colab": {
          "base_uri": "https://localhost:8080/"
        },
        "outputId": "1062092f-dc32-44d0-c19f-b84a82c9e087"
      },
      "execution_count": null,
      "outputs": [
        {
          "output_type": "stream",
          "name": "stdout",
          "text": [
            "+--------------+---------------------+---------------------+------------------------+\n",
            "| Faixa etária | Frequência absoluta | Frequência relativa | Intervalo de Confiança |\n",
            "+--------------+---------------------+---------------------+------------------------+\n",
            "|  17-20 anos  |         48          |        0.47         |      (0.37, 0.57)      |\n",
            "|  21-24 anos  |         41          |         0.4         |       (0.3, 0.5)       |\n",
            "|   28+ anos   |          7          |        0.07         |      (0.02, 0.12)      |\n",
            "|  25-27 anos  |          6          |        0.06         |      (0.01, 0.11)      |\n",
            "+--------------+---------------------+---------------------+------------------------+\n"
          ]
        }
      ]
    },
    {
      "cell_type": "markdown",
      "source": [
        "O formulário conta com 102 respostas, que será o valor base para todas as medidas estatísticas dessa avaliação. A faixa etária que mais apareceu na pesquisa foi a de 17-20 anos, totalizando 48 respostas e correspondendo a 47% das respostas. A segunda mais frequente foi a faixa de 21-24 anos, tendo 41 respostas e sendo 40% da amostra. A que menos apareceu foi a de 25-27 anos, porém teve uma diferença de apenas 1 resposta comparando com a de 28+, totalizando 6 e 7 respostas e correspondendo a 0,6% e 0,7%, respectivamente.\n",
        "\n",
        "Ao considerar o intervalo de confiança de 95%, podemos observar que as estimativas das frequências relativas estão dentro dos intervalos calculados. Isso indica que, com 95% de confiança, as proporções de respostas em cada faixa etária são representativas da população da pesquisa. Essa análise reforça a robustez dos resultados e a validade das conclusões tiradas a partir das respostas coletadas."
      ],
      "metadata": {
        "id": "tnPMxlfz_BsL"
      }
    },
    {
      "cell_type": "markdown",
      "source": [
        "# Gênero"
      ],
      "metadata": {
        "id": "fHUCgZ66_hoJ"
      }
    },
    {
      "cell_type": "code",
      "source": [
        "frequencia_absoluta = dados['genero'].value_counts()\n",
        "frequencia_relativa = (frequencia_absoluta / len(dados['genero'])) * 100\n",
        "frequencia_relativa_arredondada = frequencia_relativa.round(1)\n",
        "tabela_frequencia = pd.DataFrame({\n",
        "    'Gênero': frequencia_absoluta.index,\n",
        "    'Frequência Absoluta': frequencia_absoluta.values,\n",
        "    'Frequência Relativa (%)': frequencia_relativa_arredondada.values\n",
        "})\n",
        "\n",
        "tamanho_amostra = len(dados)\n",
        "proporcao = frequencia_relativa / 100\n",
        "z_score = stats.norm.ppf(0.975)\n",
        "erro_padrao = np.sqrt(proporcao * (1 - proporcao) / tamanho_amostra)\n",
        "margem_erro = z_score * erro_padrao * 100\n",
        "intervalo_confianca_inferior = (frequencia_relativa - margem_erro).round(1)\n",
        "intervalo_confianca_superior = (frequencia_relativa + margem_erro).round(1)\n",
        "intervalo_confianca = list(zip(intervalo_confianca_inferior, intervalo_confianca_superior))\n",
        "\n",
        "tabela_frequencia['Intervalo de Confiança'] = intervalo_confianca\n",
        "\n",
        "print(\"Tabela de Frequência Absoluta e Relativa para a variável 'Gênero':\")\n",
        "print(tabulate(tabela_frequencia, headers='keys', tablefmt='pretty', showindex=False))"
      ],
      "metadata": {
        "id": "cea0Yq4hT77f",
        "colab": {
          "base_uri": "https://localhost:8080/"
        },
        "outputId": "740bdffd-528b-4014-8f0d-af455ea31347"
      },
      "execution_count": null,
      "outputs": [
        {
          "output_type": "stream",
          "name": "stdout",
          "text": [
            "Tabela de Frequência Absoluta e Relativa para a variável 'Gênero':\n",
            "+----------------------+---------------------+-------------------------+------------------------+\n",
            "|        Gênero        | Frequência Absoluta | Frequência Relativa (%) | Intervalo de Confiança |\n",
            "+----------------------+---------------------+-------------------------+------------------------+\n",
            "|       Feminino       |         58          |          56.9           |      (47.3, 66.5)      |\n",
            "|      Masculino       |         40          |          39.2           |      (29.7, 48.7)      |\n",
            "|     Não-binárie      |          3          |           2.9           |      (-0.3, 6.2)       |\n",
            "| Prefiro não respoder |          1          |           1.0           |      (-0.9, 2.9)       |\n",
            "+----------------------+---------------------+-------------------------+------------------------+\n"
          ]
        }
      ]
    },
    {
      "cell_type": "markdown",
      "source": [
        "Os valores encontrados demonstram um número absoluto maior do gênero feminino, com 58 das respostas. O gênero masculino também foi expressivo, com 40 das respostas. O gênero não-binário e a opção \"Prefiro não responder\" tiveram poucas respostas, com 3 e 1 respostas, respectivamente.\n",
        "\n",
        "Em termos percentuais, as respostas fornecidas demonstram que mais da metade das respostas são femininas, representando 56,9% do total. O gênero masculino corresponde a 39,2% das respostas, enquanto o gênero não-binário e a opção \"Prefiro não responder\" representam 2,9% e 1% das respostas, respectivamente.\n",
        "\n",
        "Os intervalos de confiança foram calculados para fornecer uma estimativa da variação em torno das proporções amostrais com 95% de confiança, destacando a robustez dos resultados. Eles indicam que as proporções de respostas para cada gênero estão dentro dos intervalos calculados, sugerindo que as estimativas das frequências relativas são representativas da população da pesquisa, com um nível de confiança de 95%. Essa análise fortalece a confiabilidade dos resultados e a validade das conclusões derivadas das respostas coletadas."
      ],
      "metadata": {
        "id": "7wAbAAWJUUmM"
      }
    },
    {
      "cell_type": "markdown",
      "source": [
        "# Mais de uma universidade"
      ],
      "metadata": {
        "id": "dPYMgxhW_oBX"
      }
    },
    {
      "cell_type": "code",
      "source": [
        "frequencia_absoluta = dados['mais_de_uma_faculdade'].value_counts()\n",
        "frequencia_relativa = (frequencia_absoluta / len(dados['mais_de_uma_faculdade'])) * 100\n",
        "frequencia_relativa_arredondada = frequencia_relativa.round(1)\n",
        "tabela_frequencia = pd.DataFrame({\n",
        "    'Mais de uma faculdade?': frequencia_absoluta.index,\n",
        "    'Frequência Absoluta': frequencia_absoluta.values,\n",
        "    'Frequência Relativa (%)': frequencia_relativa_arredondada.values\n",
        "})\n",
        "\n",
        "tamanho_amostra = len(dados)\n",
        "proporcao = frequencia_relativa / 100\n",
        "z_score = stats.norm.ppf(0.975)\n",
        "erro_padrao = np.sqrt(proporcao * (1 - proporcao) / tamanho_amostra)\n",
        "margem_erro = z_score * erro_padrao * 100\n",
        "intervalo_confianca_inferior = (frequencia_relativa - margem_erro).round(1)\n",
        "intervalo_confianca_superior = (frequencia_relativa + margem_erro).round(1)\n",
        "intervalo_confianca = list(zip(intervalo_confianca_inferior, intervalo_confianca_superior))\n",
        "\n",
        "tabela_frequencia['Intervalo de Confiança'] = intervalo_confianca\n",
        "\n",
        "print(\"Tabela de Frequência Absoluta e Relativa para a Variável 'mais_de_uma_faculdade':\")\n",
        "print(tabulate(tabela_frequencia, headers='keys', tablefmt='pretty', showindex=False))"
      ],
      "metadata": {
        "id": "Y_ng_-5SGBSG",
        "colab": {
          "base_uri": "https://localhost:8080/"
        },
        "outputId": "01c2b70d-1c12-4b3a-ffd5-856fed68254c"
      },
      "execution_count": null,
      "outputs": [
        {
          "output_type": "stream",
          "name": "stdout",
          "text": [
            "Tabela de Frequência Absoluta e Relativa para a Variável 'mais_de_uma_faculdade':\n",
            "+------------------------+---------------------+-------------------------+------------------------+\n",
            "| Mais de uma faculdade? | Frequência Absoluta | Frequência Relativa (%) | Intervalo de Confiança |\n",
            "+------------------------+---------------------+-------------------------+------------------------+\n",
            "|          Não           |         91          |          89.2           |      (83.2, 95.2)      |\n",
            "|          Sim           |         11          |          10.8           |      (4.8, 16.8)       |\n",
            "+------------------------+---------------------+-------------------------+------------------------+\n"
          ]
        }
      ]
    },
    {
      "cell_type": "markdown",
      "source": [
        "Os dados revelam que a maioria das pessoas entrevistadas, representando 89.2% do total, não frequentou mais de uma faculdade. Em contraste, apenas 10.8% das pessoas entrevistadas admitiram ter frequentado mais de uma instituição de ensino superior, optando por uma múltipla formação. Além disso, ao considerar os intervalos de confiança calculados, podemos observar que as estimativas das frequências relativas para ambas as categorias estão dentro dos intervalos calculados. Isso sugere que as proporções amostrais são representativas da população da pesquisa, com um nível de confiança de 95%."
      ],
      "metadata": {
        "id": "yUrAYyaDGB-f"
      }
    },
    {
      "cell_type": "markdown",
      "source": [
        "# Universidade(s)"
      ],
      "metadata": {
        "id": "wMqJNyrW_xOq"
      }
    },
    {
      "cell_type": "code",
      "source": [
        "frequencia_absoluta = dados['universidade'].value_counts()\n",
        "frequencia_relativa = (frequencia_absoluta / len(dados['universidade'])) * 100\n",
        "frequencia_relativa_arredondada = frequencia_relativa.round(1)\n",
        "tabela_frequencia = pd.DataFrame({\n",
        "    'Universidade': frequencia_absoluta.index,\n",
        "    'Frequência Absoluta': frequencia_absoluta.values,\n",
        "    'Frequência Relativa (%)': frequencia_relativa_arredondada.values\n",
        "})\n",
        "\n",
        "tamanho_amostra = len(dados)\n",
        "proporcao = frequencia_relativa / 100\n",
        "z_score = stats.norm.ppf(0.975)\n",
        "erro_padrao = np.sqrt(proporcao * (1 - proporcao) / tamanho_amostra)\n",
        "margem_erro = z_score * erro_padrao * 100\n",
        "intervalo_confianca_inferior = (frequencia_relativa - margem_erro).round(1)\n",
        "intervalo_confianca_superior = (frequencia_relativa + margem_erro).round(1)\n",
        "intervalo_confianca = list(zip(intervalo_confianca_inferior, intervalo_confianca_superior))\n",
        "\n",
        "tabela_frequencia['Intervalo de Confiança'] = intervalo_confianca\n",
        "\n",
        "print(\"Tabela de Frequência Absoluta e Relativa para a variável 'Universidade':\")\n",
        "print(tabulate(tabela_frequencia, headers='keys', tablefmt='pretty', showindex=False))"
      ],
      "metadata": {
        "id": "2TUyjte3usSu",
        "colab": {
          "base_uri": "https://localhost:8080/"
        },
        "outputId": "e4e52afa-792e-4f61-fdad-c34dfd056bec"
      },
      "execution_count": null,
      "outputs": [
        {
          "output_type": "stream",
          "name": "stdout",
          "text": [
            "Tabela de Frequência Absoluta e Relativa para a variável 'Universidade':\n",
            "+-------------------------------+---------------------+-------------------------+------------------------+\n",
            "|         Universidade          | Frequência Absoluta | Frequência Relativa (%) | Intervalo de Confiança |\n",
            "+-------------------------------+---------------------+-------------------------+------------------------+\n",
            "|             UFRGS             |         37          |          36.3           |      (26.9, 45.6)      |\n",
            "|            UFCSPA             |         35          |          34.3           |      (25.1, 43.5)      |\n",
            "|             PUCRS             |         12          |          11.8           |      (5.5, 18.0)       |\n",
            "|           Unisinos            |          4          |           3.9           |       (0.2, 7.7)       |\n",
            "|             UFSC              |          2          |           2.0           |      (-0.7, 4.7)       |\n",
            "|             Senai             |          2          |           2.0           |      (-0.7, 4.7)       |\n",
            "|          UFSC e FGV           |          1          |           1.0           |      (-0.9, 2.9)       |\n",
            "|             UFBA              |          1          |           1.0           |      (-0.9, 2.9)       |\n",
            "|          Unilasalle           |          1          |           1.0           |      (-0.9, 2.9)       |\n",
            "| Universidade de Caxias do Sul |          1          |           1.0           |      (-0.9, 2.9)       |\n",
            "|         UFCSPA, UFRGS         |          1          |           1.0           |      (-0.9, 2.9)       |\n",
            "|           Uniritter           |          1          |           1.0           |      (-0.9, 2.9)       |\n",
            "|             Fapa              |          1          |           1.0           |      (-0.9, 2.9)       |\n",
            "|        UFRGS, Estácio         |          1          |           1.0           |      (-0.9, 2.9)       |\n",
            "|             ULBRA             |          1          |           1.0           |      (-0.9, 2.9)       |\n",
            "|    Universidade do Algarve    |          1          |           1.0           |      (-0.9, 2.9)       |\n",
            "+-------------------------------+---------------------+-------------------------+------------------------+\n"
          ]
        }
      ]
    },
    {
      "cell_type": "markdown",
      "source": [
        "Os valores absolutos encontrados foram expressivamente maiores entre duas universidades, UFRGS com 37 respostas e UFCSPA com 35 respostas. A PUCRS esteve em 12 respostas. As outras 13 opções registradas tiveram valores absolutos menores do que 5. Em termos percentuais, a UFRGS e a UFCSPA corresponderam a 36,3% e 34,3% das respostas, respectivamente, o que equivale a mais de 70% das respostas obtidas no formulário. A PUCRS esteve em 11.8% das respostas, enquanto o restante das 13 opções não teve uma porcentagem expressiva. Além disso, os intervalos de confiança calculados nos fornecem insights sobre a variabilidade das proporções amostrais, indicando que as estimativas das frequências relativas para cada universidade estão dentro desses intervalos. Isso sugere que as proporções amostrais são representativas da população da pesquisa, com um nível de confiança de 95%."
      ],
      "metadata": {
        "id": "bDExye7Wzusr"
      }
    },
    {
      "cell_type": "markdown",
      "source": [
        "# Curso(s)"
      ],
      "metadata": {
        "id": "B4afRIHA_049"
      }
    },
    {
      "cell_type": "markdown",
      "source": [],
      "metadata": {
        "id": "JRfUcishEw2c"
      }
    },
    {
      "cell_type": "code",
      "source": [
        "\n",
        "def preprocess(text):\n",
        "    text = unidecode(text).lower()\n",
        "    text = ' '.join(text.split())\n",
        "    return text\n",
        "\n",
        "dados['curso_tratado'] = dados['curso_tratado'].apply(preprocess)\n",
        "dados['curso_tratado'].replace('artes visuais licenciatura', 'artes visuais', inplace=True)\n",
        "dados['curso_tratado'].replace('direito diurno', 'direito', inplace=True)\n",
        "dados['curso_tratado'].replace('bacharelado em artes visuais', 'artes visuais', inplace=True)\n",
        "dados['curso_tratado'].replace('licenciatura em artes visuais', 'artes visuais', inplace=True)\n",
        "dados['curso_tratado'].replace('artes visuais (bacharelado)', 'artes visuais', inplace=True)\n",
        "dados['curso_tratado'].replace('artes visuais- licenciatura', 'artes visuais', inplace=True)\n",
        "dados['curso_tratado'].replace('artes visuais bacharelado', 'artes visuais', inplace=True)\n",
        "dados['curso_tratado'].replace('artes visuais - licenciatura', 'artes visuais', inplace=True)\n",
        "dados['curso_tratado'].replace('artes', 'artes visuais', inplace=True)\n",
        "dados['curso_tratado'].replace('economia', 'ciencias economicas', inplace=True)\n",
        "dados['curso_tratado'].replace('ciencias juridicas e sociais', 'direito', inplace=True)\n",
        "dados['curso_tratado'].replace('ciencias da computacao', 'ciencia da computacao', inplace=True)"
      ],
      "metadata": {
        "id": "OHlSGb4OEwgQ"
      },
      "execution_count": null,
      "outputs": []
    },
    {
      "cell_type": "code",
      "source": [
        "frequencia_absoluta = dados['curso_tratado'].value_counts()\n",
        "frequencia_relativa = (frequencia_absoluta / frequencia_absoluta.sum()).round(2)\n",
        "\n",
        "tamanho_amostra = len(dados)\n",
        "proporcao = frequencia_absoluta / tamanho_amostra\n",
        "z_score = stats.norm.ppf(0.975)  # 95% de confiança\n",
        "erro_padrao = np.sqrt(proporcao * (1 - proporcao) / tamanho_amostra)\n",
        "margem_erro = z_score * erro_padrao\n",
        "intervalo_confianca_inferior = (proporcao - margem_erro).round(2)\n",
        "intervalo_confianca_superior = (proporcao + margem_erro).round(2)\n",
        "intervalo_confianca = list(zip(intervalo_confianca_inferior, intervalo_confianca_superior))\n",
        "\n",
        "tabela_final = pd.DataFrame({\n",
        "    'Curso tratado': frequencia_absoluta.index,\n",
        "    'Frequência absoluta': frequencia_absoluta.values,\n",
        "    'Frequência relativa': frequencia_relativa.values,\n",
        "    'Intervalo de Confiança': intervalo_confianca\n",
        "})\n",
        "\n",
        "print(\"Tabela de Frequência Absoluta e Relativa para a Variável 'Curso':\")\n",
        "print(tabulate(tabela_final, headers='keys', tablefmt='pretty', showindex=False))"
      ],
      "metadata": {
        "id": "_wKhhm28KWw1",
        "colab": {
          "base_uri": "https://localhost:8080/"
        },
        "outputId": "3a4dc304-fb1f-4573-e614-b4b03c290d22"
      },
      "execution_count": null,
      "outputs": [
        {
          "output_type": "stream",
          "name": "stdout",
          "text": [
            "Tabela de Frequência Absoluta e Relativa para a Variável 'Curso':\n",
            "+---------------------------------------------------------+---------------------+---------------------+------------------------+\n",
            "|                      Curso tratado                      | Frequência absoluta | Frequência relativa | Intervalo de Confiança |\n",
            "+---------------------------------------------------------+---------------------+---------------------+------------------------+\n",
            "|                      artes visuais                      |         22          |        0.22         |      (0.14, 0.3)       |\n",
            "|                  informatica biomedica                  |         15          |        0.15         |      (0.08, 0.22)      |\n",
            "|                        medicina                         |         15          |        0.15         |      (0.08, 0.22)      |\n",
            "|                         direito                         |         10          |         0.1         |      (0.04, 0.16)      |\n",
            "|                          moda                           |          4          |        0.04         |      (0.0, 0.08)       |\n",
            "|                       psicologia                        |          3          |        0.03         |      (-0.0, 0.06)      |\n",
            "|                  ciencia da computacao                  |          3          |        0.03         |      (-0.0, 0.06)      |\n",
            "|                   engenharia quimica                    |          3          |        0.03         |      (-0.0, 0.06)      |\n",
            "|                       enfermagem                        |          2          |        0.02         |     (-0.01, 0.05)      |\n",
            "|                      fisioterapia                       |          2          |        0.02         |     (-0.01, 0.05)      |\n",
            "|          analise e desenvolvimento de sistemas          |          2          |        0.02         |     (-0.01, 0.05)      |\n",
            "|                   ciencias economicas                   |          2          |        0.02         |     (-0.01, 0.05)      |\n",
            "|                       jornalismo                        |          1          |        0.01         |     (-0.01, 0.03)      |\n",
            "|    engenharia de sistemas e tecnologias informaticas    |          1          |        0.01         |     (-0.01, 0.03)      |\n",
            "|                     fonoaudiologia                      |          1          |        0.01         |     (-0.01, 0.03)      |\n",
            "|                    engenharia civil                     |          1          |        0.01         |     (-0.01, 0.03)      |\n",
            "|                        eng. mec.                        |          1          |        0.01         |     (-0.01, 0.03)      |\n",
            "|                         design                          |          1          |        0.01         |     (-0.01, 0.03)      |\n",
            "|                      letras ingles                      |          1          |        0.01         |     (-0.01, 0.03)      |\n",
            "|                      fisica medica                      |          1          |        0.01         |     (-0.01, 0.03)      |\n",
            "|   bacharelado em direito, tecnologo em gestao publica   |          1          |        0.01         |     (-0.01, 0.03)      |\n",
            "| artes visuais e investigacao forense e pericia criminal |          1          |        0.01         |     (-0.01, 0.03)      |\n",
            "|            especialista da area da educacao             |          1          |        0.01         |     (-0.01, 0.03)      |\n",
            "|                   fisica licenciatura                   |          1          |        0.01         |     (-0.01, 0.03)      |\n",
            "|                        farmacia                         |          1          |        0.01         |     (-0.01, 0.03)      |\n",
            "|                    gestao comercial                     |          1          |        0.01         |     (-0.01, 0.03)      |\n",
            "|                 relacoes internacionais                 |          1          |        0.01         |     (-0.01, 0.03)      |\n",
            "|                     gestao em saude                     |          1          |        0.01         |     (-0.01, 0.03)      |\n",
            "|                     design grafico                      |          1          |        0.01         |     (-0.01, 0.03)      |\n",
            "|                administracao de empresas                |          1          |        0.01         |     (-0.01, 0.03)      |\n",
            "|                        pedagogia                        |          1          |        0.01         |     (-0.01, 0.03)      |\n",
            "+---------------------------------------------------------+---------------------+---------------------+------------------------+\n"
          ]
        }
      ]
    },
    {
      "cell_type": "markdown",
      "source": [
        "Os intervalos de confiança nos fornecem uma ideia da precisão das estimativas das frequências relativas dos cursos. Observamos que os cursos com maiores frequências absolutas, como Artes Visuais, Informática Biomédica e Medicina, têm intervalos de confiança estreitos, indicando uma estimativa mais precisa da verdadeira proporção na população. Por outro lado, cursos com frequências menores, como os que tiveram menos de 5 respostas, apresentam intervalos de confiança mais amplos, refletindo uma maior incerteza nas estimativas. Isso sugere que devemos interpretar com cautela as proporções desses cursos menos representados, dada a maior margem de erro associada às suas estimativas."
      ],
      "metadata": {
        "id": "Sp1xfLb9KO4w"
      }
    },
    {
      "cell_type": "markdown",
      "source": [
        "# N° de cadeiras"
      ],
      "metadata": {
        "id": "BfC8fpwd_5qy"
      }
    },
    {
      "cell_type": "code",
      "source": [
        "n_cadeiras = dados['n_cadeiras']\n",
        "print(dados['n_cadeiras'].dtype)\n",
        "dados['n_cadeiras'] = pd.to_numeric(dados['n_cadeiras'], errors='coerce')\n",
        "\n",
        "media = round(float(dados['n_cadeiras'].mean()), 1)\n",
        "mediana = round(float(dados['n_cadeiras'].median()), 1)\n",
        "moda = dados['n_cadeiras'].mode()[0]\n",
        "\n",
        "amplitude = round(float(dados['n_cadeiras'].max() - dados['n_cadeiras'].min()), 1)\n",
        "desvio_padrao = round(float(dados['n_cadeiras'].std()), 1)\n",
        "coef_variacao = round(float((desvio_padrao / media) * 100), 1)\n",
        "\n",
        "graus_liberdade = len(dados['n_cadeiras']) - 1\n",
        "\n",
        "intervalo_confianca = stats.t.interval(0.95, graus_liberdade, loc=media, scale=desvio_padrao / np.sqrt(len(dados['n_cadeiras'])))\n",
        "\n",
        "tabela_medidas = pd.DataFrame({\n",
        "    'Medida Estatística': ['Média', 'Mediana', 'Moda', 'Amplitude', 'Desvio-padrão', 'Coeficiente de Variação', 'Intervalo de confiança'],\n",
        "    'Valor': [media, mediana, moda, amplitude, desvio_padrao, coef_variacao, intervalo_confianca]\n",
        "})\n",
        "print(\"Tabela de Medidas Estatísticas para a variável 'Número de cadeiras':\")\n",
        "print(tabulate(tabela_medidas, headers='keys', tablefmt='pretty', showindex=False))\n"
      ],
      "metadata": {
        "id": "6UpeMg5y1CIr",
        "colab": {
          "base_uri": "https://localhost:8080/"
        },
        "outputId": "7bfa853f-91b3-4ca5-aab2-834c118f397e"
      },
      "execution_count": null,
      "outputs": [
        {
          "output_type": "stream",
          "name": "stdout",
          "text": [
            "object\n",
            "Tabela de Medidas Estatísticas para a variável 'Número de cadeiras':\n",
            "+-------------------------+----------------------------------------+\n",
            "|   Medida Estatística    |                 Valor                  |\n",
            "+-------------------------+----------------------------------------+\n",
            "|          Média          |                  6.2                   |\n",
            "|         Mediana         |                  6.0                   |\n",
            "|          Moda           |                  7.0                   |\n",
            "|        Amplitude        |                  10.0                  |\n",
            "|      Desvio-padrão      |                  2.1                   |\n",
            "| Coeficiente de Variação |                  33.9                  |\n",
            "| Intervalo de confiança  | (5.787520860528962, 6.612479139471039) |\n",
            "+-------------------------+----------------------------------------+\n"
          ]
        }
      ]
    },
    {
      "cell_type": "markdown",
      "source": [
        "A média do número de cadeiras é de 6,2, enquanto a mediana é de 6,0. A moda é 7,0, o que indica que este é o valor mais frequente entre os respondentes. A amplitude do conjunto de dados é de 10,0, variando de 2 a 12 cadeiras. O desvio-padrão é de 2,1, o que sugere uma dispersão moderada dos dados em relação à média. O coeficiente de variação é de 33,9%, indicando uma variabilidade relativa de aproximadamente 34% em relação à média. A amplitude do intervalo de confiança para a média é de (5.79, 6.61), o que sugere que a verdadeira média do número de cadeiras na população tem uma alta probabilidade de estar dentro desse intervalo. Isso nos dá uma medida da incerteza associada à estimativa da média amostral."
      ],
      "metadata": {
        "id": "DkKBw_PyFae3"
      }
    },
    {
      "cell_type": "markdown",
      "source": [
        "Teste de Hipótese: diferença entre número de cadeiras entre universidades."
      ],
      "metadata": {
        "id": "pKRNi8LArj86"
      }
    },
    {
      "cell_type": "code",
      "source": [
        "import pandas as pd\n",
        "from scipy import stats\n",
        "from tabulate import tabulate\n",
        "\n",
        "dados['n_cadeiras'] = pd.to_numeric(dados['n_cadeiras'], errors='coerce')\n",
        "dados = dados.dropna(subset=['n_cadeiras'])\n",
        "dados_filtrados = dados[dados['universidade'].isin(['UFCSPA', 'UFRGS'])]\n",
        "descricao_por_universidade = dados_filtrados.groupby('universidade')['n_cadeiras'].describe()\n",
        "descricao_por_universidade = descricao_por_universidade.rename(columns={\n",
        "    'count': 'Contagem',\n",
        "    'mean': 'Média',\n",
        "    'std': 'Desvio Padrão',\n",
        "    'min': 'Mínimo',\n",
        "    '25%': 'Q1',\n",
        "    '50%': 'Mediana',\n",
        "    '75%': 'Q3',\n",
        "    'max': 'Máximo'\n",
        "})\n",
        "\n",
        "grupo_universidade = dados_filtrados.groupby('universidade')['n_cadeiras']\n",
        "anova_resultado = stats.f_oneway(*[grupo_universidade.get_group(grupo) for grupo in grupo_universidade.groups])\n",
        "\n",
        "print(\"Estatísticas Descritivas Básicas para 'n_cadeiras' por Universidade (UFCSPA e UFRGS):\")\n",
        "print(tabulate(descricao_por_universidade, headers='keys', tablefmt='pretty'))\n",
        "print(\"\\n\")\n",
        "\n",
        "print(\"Resultado do Teste de Hipóteses (ANOVA):\")\n",
        "print(\"Estatística F:\", anova_resultado.statistic)\n",
        "print(\"Valor p:\", anova_resultado.pvalue)\n",
        "print(\"\\n\")\n",
        "\n",
        "nivel_significancia = 0.05\n",
        "if anova_resultado.pvalue < nivel_significancia:\n",
        "    print(\"Conclusão: Há diferença significativa nas médias de 'n_cadeiras' entre as universidades UFCSPA e UFRGS.\")\n",
        "else:\n",
        "    print(\"Conclusão: Não há diferença significativa nas médias de 'n_cadeiras' entre as universidades UFCSPA e UFRGS.\")"
      ],
      "metadata": {
        "id": "7Z6hJtdqZdSo",
        "colab": {
          "base_uri": "https://localhost:8080/"
        },
        "outputId": "0d996600-3caa-4ac8-e9b3-17e10d6193ca"
      },
      "execution_count": null,
      "outputs": [
        {
          "output_type": "stream",
          "name": "stdout",
          "text": [
            "Estatísticas Descritivas Básicas para 'n_cadeiras' por Universidade (UFCSPA e UFRGS):\n",
            "+--------------+----------+-------------------+--------------------+--------+-----+---------+-----+--------+\n",
            "| universidade | Contagem |       Média       |   Desvio Padrão    | Mínimo | Q1  | Mediana | Q3  | Máximo |\n",
            "+--------------+----------+-------------------+--------------------+--------+-----+---------+-----+--------+\n",
            "|    UFCSPA    |   33.0   | 7.636363636363637 | 2.088931871468374  |  2.0   | 7.0 |   7.0   | 9.0 |  12.0  |\n",
            "|    UFRGS     |   31.0   | 4.935483870967742 | 1.2092830898502838 |  3.0   | 4.0 |   5.0   | 6.0 |  8.0   |\n",
            "+--------------+----------+-------------------+--------------------+--------+-----+---------+-----+--------+\n",
            "\n",
            "\n",
            "Resultado do Teste de Hipóteses (ANOVA):\n",
            "Estatística F: 39.395301812995406\n",
            "Valor p: 3.7736391060422086e-08\n",
            "\n",
            "\n",
            "Conclusão: Há diferença significativa nas médias de 'n_cadeiras' entre as universidades UFCSPA e UFRGS.\n"
          ]
        }
      ]
    },
    {
      "cell_type": "code",
      "source": [],
      "metadata": {
        "id": "ajaCCiT4Vpii"
      },
      "execution_count": null,
      "outputs": []
    },
    {
      "cell_type": "code",
      "source": [
        "dados['n_cadeiras'] = pd.to_numeric(dados['n_cadeiras'], errors='coerce')\n",
        "dados = dados.dropna(subset=['n_cadeiras'])\n",
        "dados_filtrados = dados[dados['universidade'].isin(['UFCSPA', 'UFRGS'])]\n",
        "tabela_frequencia = pd.crosstab(dados_filtrados['universidade'], dados_filtrados['n_cadeiras'])\n",
        "tabela_frequencia['TL'] = tabela_frequencia.sum(axis=1)\n",
        "tabela_frequencia.loc['TC'] = tabela_frequencia.sum()\n",
        "\n",
        "print(\"Tabela de Frequência de Número de Disciplinas por Universidade (UFCSPA e UFRGS):\")\n",
        "print(tabulate(tabela_frequencia, headers='keys', tablefmt='grid'))\n"
      ],
      "metadata": {
        "id": "fsUVvgqhyjUS",
        "colab": {
          "base_uri": "https://localhost:8080/"
        },
        "outputId": "f36a655d-aace-45ee-db58-76a08c026e98"
      },
      "execution_count": null,
      "outputs": [
        {
          "output_type": "stream",
          "name": "stdout",
          "text": [
            "Tabela de Frequência de Número de Disciplinas por Universidade (UFCSPA e UFRGS):\n",
            "+----------------+-------+-------+-------+-------+-------+-------+-------+-------+--------+--------+--------+------+\n",
            "| universidade   |   2.0 |   3.0 |   4.0 |   5.0 |   6.0 |   7.0 |   8.0 |   9.0 |   10.0 |   11.0 |   12.0 |   TL |\n",
            "+================+=======+=======+=======+=======+=======+=======+=======+=======+========+========+========+======+\n",
            "| UFCSPA         |     1 |     0 |     2 |     0 |     4 |    11 |     3 |     7 |      2 |      2 |      1 |   33 |\n",
            "+----------------+-------+-------+-------+-------+-------+-------+-------+-------+--------+--------+--------+------+\n",
            "| UFRGS          |     0 |     3 |     9 |    10 |     6 |     2 |     1 |     0 |      0 |      0 |      0 |   31 |\n",
            "+----------------+-------+-------+-------+-------+-------+-------+-------+-------+--------+--------+--------+------+\n",
            "| TC             |     1 |     3 |    11 |    10 |    10 |    13 |     4 |     7 |      2 |      2 |      1 |   64 |\n",
            "+----------------+-------+-------+-------+-------+-------+-------+-------+-------+--------+--------+--------+------+\n"
          ]
        },
        {
          "output_type": "stream",
          "name": "stderr",
          "text": [
            "<ipython-input-49-ed884e353c6b>:1: SettingWithCopyWarning: \n",
            "A value is trying to be set on a copy of a slice from a DataFrame.\n",
            "Try using .loc[row_indexer,col_indexer] = value instead\n",
            "\n",
            "See the caveats in the documentation: https://pandas.pydata.org/pandas-docs/stable/user_guide/indexing.html#returning-a-view-versus-a-copy\n",
            "  dados['n_cadeiras'] = pd.to_numeric(dados['n_cadeiras'], errors='coerce')\n"
          ]
        }
      ]
    },
    {
      "cell_type": "markdown",
      "source": [
        "Com esses dados, podemos inferir que a UFCSPA tem uma concentração maior de respondentes em um número de disciplinas intermediário e alto (7 e 9 disciplinas são os mais comuns com 11 e 7 respostas, respectivamente) e poucos estudantes em faixas mais baixas (2 e 5 disciplinas) e mais altas (10 e 12 disciplinas).Já na UFRGS,há uma distribuição concentrada em um número intermediário de disciplinas, com um pico em 4 e 5 disciplinas (9 e 10 alunos, respectivamente). Nenhum estudante está cursando mais de 8 disciplinas."
      ],
      "metadata": {
        "id": "_F3Bk2npvbSU"
      }
    },
    {
      "cell_type": "markdown",
      "source": [
        "# Se trabalha/estagia"
      ],
      "metadata": {
        "id": "vW2GghjI_-XS"
      }
    },
    {
      "cell_type": "code",
      "source": [
        "frequencia_absoluta = dados['trabalha'].value_counts()\n",
        "frequencia_relativa = (frequencia_absoluta / len(dados['trabalha'])) * 100\n",
        "frequencia_relativa_arredondada = frequencia_relativa.round(1)\n",
        "\n",
        "frequencia_absoluta = dados['trabalha'].value_counts()\n",
        "tamanho_amostra = dados.shape[0]\n",
        "\n",
        "proporcao = frequencia_absoluta / tamanho_amostra  # Proporção da amostra\n",
        "\n",
        "intervalo_confianca = stats.norm.interval(0.95, loc=proporcao, scale=np.sqrt(proporcao * (1 - proporcao) / tamanho_amostra))\n",
        "\n",
        "tabela_frequencia = pd.DataFrame({'Trabalha/Estagia': frequencia_absoluta.index,\n",
        "                                  'Frequência Absoluta': frequencia_absoluta.values,\n",
        "                                  'Frequência Relativa (%)': frequencia_relativa_arredondada.values,\n",
        "                                  'Intervalo de confiança:': intervalo_confianca})\n",
        "\n",
        "print(\"Tabela de Frequência Absoluta e Relativa para a Variável 'Trabalha':\")\n",
        "print(tabulate(tabela_frequencia, headers='keys', tablefmt='pretty', showindex=False))"
      ],
      "metadata": {
        "id": "kbhSlpgGGNSI",
        "colab": {
          "base_uri": "https://localhost:8080/"
        },
        "outputId": "80fababb-351f-408b-aa56-d40fca59728a"
      },
      "execution_count": null,
      "outputs": [
        {
          "output_type": "stream",
          "name": "stdout",
          "text": [
            "Tabela de Frequência Absoluta e Relativa para a Variável 'Trabalha':\n",
            "+------------------+---------------------+-------------------------+-------------------------+\n",
            "| Trabalha/Estagia | Frequência Absoluta | Frequência Relativa (%) | Intervalo de confiança: |\n",
            "+------------------+---------------------+-------------------------+-------------------------+\n",
            "|       Sim        |         52          |          56.5           | [0.46392006 0.33348527] |\n",
            "|       Não        |         40          |          43.5           | [0.66651473 0.53607994] |\n",
            "+------------------+---------------------+-------------------------+-------------------------+\n"
          ]
        }
      ]
    },
    {
      "cell_type": "markdown",
      "source": [
        "Os dados revelam que 58 pessoas, equivalente a 56.9% da amostra, estão trabalhando ou estagiando, enquanto 44 pessoas, representando 43.1%, não estão. Essas informações sugerem uma maioria de pessoas na amostra envolvidas em atividades de trabalho ou estágio."
      ],
      "metadata": {
        "id": "h-9hF1FVGOBc"
      }
    },
    {
      "cell_type": "markdown",
      "source": [
        "# Tempo de jornada de trabalho"
      ],
      "metadata": {
        "id": "aFy_RSDwAEfe"
      }
    },
    {
      "cell_type": "code",
      "source": [
        "import pandas as pd\n",
        "from math import ceil\n",
        "from tabulate import tabulate\n",
        "\n",
        "dados_limpos = dados.copy()\n",
        "dados_limpos = dados_limpos.dropna(subset=['t_jornada'])\n",
        "\n",
        "dados_limpos['t_jornada'] = dados_limpos['t_jornada'].replace('8 horas ou mais', '12')\n",
        "\n",
        "dados_limpos['t_jornada'] = dados_limpos['t_jornada'].str.extract(r'(\\d+)').astype(float)\n",
        "\n",
        "media = ceil(dados_limpos['t_jornada'].mean())\n",
        "mediana = round(dados_limpos['t_jornada'].median(), 1)\n",
        "moda = dados_limpos['t_jornada'].mode()[0]\n",
        "\n",
        "amplitude = round(dados_limpos['t_jornada'].max() - dados_limpos['t_jornada'].min(), 1)\n",
        "desvio_padrao = round(dados_limpos['t_jornada'].std(), 1)\n",
        "coef_variacao = round((desvio_padrao / media) * 100, 1)\n",
        "\n",
        "graus_liberdade = len(dados['n_cadeiras']) - 1  # Graus de liberdade da distribuição t\n",
        "\n",
        "intervalo_confianca = stats.t.interval(0.95, graus_liberdade, loc=media, scale=desvio_padrao / np.sqrt(len(dados['n_cadeiras'])))\n",
        "\n",
        "tabela_medidas = pd.DataFrame({\n",
        "    'Medida Estatística': ['Média', 'Mediana', 'Moda', 'Amplitude', 'Desvio-padrão', 'Coeficiente de Variação', 'Intervalo de confiança'],\n",
        "    'Valor': [media, mediana, moda, amplitude, desvio_padrao, coef_variacao, intervalo_confianca]\n",
        "})\n",
        "\n",
        "print(\"Tabela de Medidas Estatísticas para a variável 'Número de cadeiras':\")\n",
        "print(tabulate(tabela_medidas, headers='keys', tablefmt='pretty', showindex=False))\n"
      ],
      "metadata": {
        "id": "B4u1w00UAPvY",
        "colab": {
          "base_uri": "https://localhost:8080/"
        },
        "outputId": "96661199-1557-4582-f68f-74a5508c35e1"
      },
      "execution_count": null,
      "outputs": [
        {
          "output_type": "stream",
          "name": "stdout",
          "text": [
            "Tabela de Medidas Estatísticas para a variável 'Número de cadeiras':\n",
            "+-------------------------+----------------------------------------+\n",
            "|   Medida Estatística    |                 Valor                  |\n",
            "+-------------------------+----------------------------------------+\n",
            "|          Média          |                   7                    |\n",
            "|         Mediana         |                  6.0                   |\n",
            "|          Moda           |                  6.0                   |\n",
            "|        Amplitude        |                  8.0                   |\n",
            "|      Desvio-padrão      |                  2.5                   |\n",
            "| Coeficiente de Variação |                  35.7                  |\n",
            "| Intervalo de confiança  | (6.482264664468453, 7.517735335531547) |\n",
            "+-------------------------+----------------------------------------+\n"
          ]
        }
      ]
    },
    {
      "cell_type": "markdown",
      "source": [
        "Média: A média de tempo de jornada é de aproximadamente 7 horas. Isso indica que, em média, as pessoas trabalham cerca 7 horas por dia.\n",
        "\n",
        "Mediana: A mediana do tempo de jornada é de 6.0 horas. Isso significa que mais da metade das pessoas trabalha 6 horas ou menos por dia, enquanto o resto trabalha mais do que 6 horas.\n",
        "\n",
        "Moda: A moda do tempo de jornada é de 6 horas, com um total de 25 respostas neste valor. Isso indica que 6 horas é o valor mais frequente entre as respostas, o que reforça a ideia de que muitas pessoas trabalham esse período de tempo.\n",
        "\n",
        "Amplitude: A amplitude é de 8 horas, indicando a diferença entre o valor máximo e o valor mínimo de tempo de jornada. Isso sugere que a variação entre os tempos de jornada das pessoas é relativamente pequena.\n",
        "\n",
        "Desvio-padrão: O desvio-padrão é de 2,45 horas. Isso indica que há uma certa dispersão dos dados em relação à média. Um valor de desvio-padrão mais baixo sugere que os dados estão mais próximos da média, enquanto um valor mais alto sugere maior dispersão.\n",
        "\n",
        "Coeficiente de variação: O coeficiente de variação é de 35%. Esse valor indica a variabilidade relativa em relação à média. Um coeficiente de variação de 35% sugere que a variação em relação à média é moderada.\n",
        "\n",
        "Intervalo de confiança: O intervalo de confiança proporciona uma estimativa da variação em torno das medidas estatísticas com um certo nível de confiança. No caso do número de cadeiras em salas de estar, o intervalo de confiança calculado é de (6.51, 7.49), com 95% de confiança."
      ],
      "metadata": {
        "id": "4WTLqcETC9p0"
      }
    },
    {
      "cell_type": "markdown",
      "source": [
        "# Tempo de deslocamento"
      ],
      "metadata": {
        "id": "U25IC8ZnECsm"
      }
    },
    {
      "cell_type": "code",
      "source": [
        "frequencia_absoluta = dados['t_deslocamento'].value_counts()\n",
        "frequencia_relativa = (frequencia_absoluta / len(dados['t_deslocamento'])) * 100\n",
        "frequencia_relativa_arredondada = frequencia_relativa.round(1)\n",
        "tabela_frequencia = pd.DataFrame({\n",
        "    'Tempo de Deslocamento': frequencia_absoluta.index,\n",
        "    'Frequência Absoluta': frequencia_absoluta.values,\n",
        "    'Frequência Relativa (%)': frequencia_relativa_arredondada.values\n",
        "})\n",
        "\n",
        "tamanho_amostra = len(dados)\n",
        "proporcao = frequencia_relativa / 100\n",
        "z_score = stats.norm.ppf(0.975)\n",
        "erro_padrao = np.sqrt(proporcao * (1 - proporcao) / tamanho_amostra)\n",
        "margem_erro = z_score * erro_padrao * 100\n",
        "intervalo_confianca_inferior = (frequencia_relativa - margem_erro).round(1)\n",
        "intervalo_confianca_superior = (frequencia_relativa + margem_erro).round(1)\n",
        "intervalo_confianca = list(zip(intervalo_confianca_inferior, intervalo_confianca_superior))\n",
        "\n",
        "tabela_frequencia['Intervalo de Confiança'] = intervalo_confianca\n",
        "\n",
        "print(\"Tabela de Frequência Absoluta e Relativa para a Variável 't_deslocamento':\")\n",
        "print(tabulate(tabela_frequencia, headers='keys', tablefmt='pretty', showindex=False))"
      ],
      "metadata": {
        "id": "KsZifDY_ELup",
        "colab": {
          "base_uri": "https://localhost:8080/"
        },
        "outputId": "8efe959d-3608-4e51-f6f8-07daf3daf2f3"
      },
      "execution_count": null,
      "outputs": [
        {
          "output_type": "stream",
          "name": "stdout",
          "text": [
            "Tabela de Frequência Absoluta e Relativa para a Variável 't_deslocamento':\n",
            "+-----------------------+---------------------+-------------------------+------------------------+\n",
            "| Tempo de Deslocamento | Frequência Absoluta | Frequência Relativa (%) | Intervalo de Confiança |\n",
            "+-----------------------+---------------------+-------------------------+------------------------+\n",
            "|       30min -1h       |         41          |          44.6           |      (34.4, 54.7)      |\n",
            "|        1h - 2h        |         28          |          30.4           |      (21.0, 39.8)      |\n",
            "|    Menos de 30min     |         14          |          15.2           |      (7.9, 22.6)       |\n",
            "|      2h ou mais       |          9          |           9.8           |      (3.7, 15.9)       |\n",
            "+-----------------------+---------------------+-------------------------+------------------------+\n"
          ]
        }
      ]
    },
    {
      "cell_type": "markdown",
      "source": [
        "Os dados apresentam informações sobre o tempo de deslocamento dos respondentes. A maioria dos respondentes, representando 44.1% do total, indicou um tempo de deslocamento entre 30 minutos e 1 hora. Em seguida, 31.4% dos respondentes relataram um tempo de deslocamento entre 1 hora e 2 horas. Uma parcela menor, 14.7%, afirmou levar menos de 30 minutos para se deslocar.\n",
        "\n",
        "Por outro lado, 9.8% dos respondentes informaram que seu tempo de deslocamento é de 2 horas ou mais. Isso sugere uma distribuição de deslocamento onde a maioria dos respondentes está na faixa de tempo de deslocamento mais curta, com uma diminuição gradual na frequência à medida que o tempo de deslocamento aumenta.\n",
        "\n",
        "Os intervalos de confiança calculados para cada categoria de tempo de deslocamento, com 95% de confiança, fornecem uma estimativa da variação em torno das proporções amostrais. Isso nos permite ter um alto grau de confiança de que as proporções de tempo de deslocamento para cada categoria estão dentro dos intervalos calculados."
      ],
      "metadata": {
        "id": "xAv1IgKgENeF"
      }
    },
    {
      "cell_type": "markdown",
      "source": [
        "# Semestres faltantes"
      ],
      "metadata": {
        "id": "kASIFzdSEOFP"
      }
    },
    {
      "cell_type": "markdown",
      "source": [],
      "metadata": {
        "id": "85yVj1JAK2LG"
      }
    },
    {
      "cell_type": "code",
      "source": [
        "dados['semestres_faltantes'].replace('Todos kkk, uns 10 eu acho', 10, inplace=True)\n",
        "dados['semestres_faltantes'].replace('Todos, estou no primeiro', 'todos', inplace=True)\n",
        "dados['semestres_faltantes'].replace('todos (sou bixo)', 'todos', inplace=True)\n",
        "dados['semestres_faltantes'].replace('5 semestres', 5, inplace=True)\n",
        "dados['semestres_faltantes'].replace('Estou no primeiro ainda, acredito que serão mais uns 8', 8, inplace=True)\n",
        "dados['semestres_faltantes'].replace('3 ou 4', '3/4', inplace=True)\n",
        "dados['semestres_faltantes'].replace('3 / 4', '3/4', inplace=True)\n",
        "dados['semestres_faltantes'].replace('10?', 10, inplace=True)\n",
        "dados['semestres_faltantes'].replace('8 semestres', 8, inplace=True)\n",
        "dados['semestres_faltantes'].replace('Kkkkk 9, eu acho', 9, inplace=True)\n",
        "dados['semestres_faltantes'].replace('Dois', 2, inplace=True)\n",
        "dados['semestres_faltantes'].replace('5-6', '5/6', inplace=True)\n",
        "dados['semestres_faltantes'].replace('6 semestres', 6, inplace=True)\n",
        "dados['semestres_faltantes'].replace('falta completar esse + 7', 6, inplace=True)\n",
        "dados['semestres_faltantes'].replace('todos', 10, inplace=True)\n",
        "dados['semestres_faltantes'].replace('muitos', 0, inplace=True)\n",
        "dados['semestres_faltantes'].replace('Muitos ', 0, inplace=True)\n",
        "dados['semestres_faltantes'].replace('graduado', 0, inplace=True)\n",
        "dados['semestres_faltantes'].replace('Gestão- 1. Direito - 6.', 6, inplace=True)\n",
        "dados['semestres_faltantes'].replace('2 na Estácio e 5 na UFRGS ', 5, inplace=True)\n",
        "\n",
        "semestres_faltantes = dados['semestres_faltantes'].value_counts()"
      ],
      "metadata": {
        "id": "ep0WHwtBEROE"
      },
      "execution_count": null,
      "outputs": []
    },
    {
      "cell_type": "code",
      "source": [
        "semestres_faltantes = dados['semestres_faltantes']\n",
        "print(dados['semestres_faltantes'].dtype)\n",
        "dados['semestres_faltantes'] = pd.to_numeric(dados['semestres_faltantes'], errors='coerce')\n",
        "\n",
        "media = round(float(dados['semestres_faltantes'].mean()), 1)\n",
        "mediana = round(float(dados['semestres_faltantes'].median()), 1)\n",
        "moda = dados['semestres_faltantes'].mode()[0]\n",
        "\n",
        "amplitude = round(float(dados['semestres_faltantes'].max() - dados['semestres_faltantes'].min()), 1)\n",
        "desvio_padrao = round(float(dados['semestres_faltantes'].std()), 1)\n",
        "coef_variacao = round(float((desvio_padrao / media) * 100), 1)\n",
        "\n",
        "graus_liberdade = len(dados['n_cadeiras']) - 1\n",
        "\n",
        "intervalo_confianca = stats.t.interval(0.95, graus_liberdade, loc=media, scale=desvio_padrao / np.sqrt(len(dados['n_cadeiras'])))\n",
        "\n",
        "tabela_medidas = pd.DataFrame({\n",
        "    'Medida Estatística': ['Média', 'Mediana', 'Moda', 'Amplitude', 'Desvio-padrão', 'Coeficiente de Variação', 'Intervalo de confiança'],\n",
        "    'Valor': [media, mediana, moda, amplitude, desvio_padrao, coef_variacao, intervalo_confianca]\n",
        "})\n",
        "\n",
        "print(\"Tabela de Medidas Estatísticas para a variável 'Semestres Faltantes':\")\n",
        "print(tabulate(tabela_medidas, headers='keys', tablefmt='pretty', showindex=False))"
      ],
      "metadata": {
        "id": "kq0STY6vKupC",
        "colab": {
          "base_uri": "https://localhost:8080/"
        },
        "outputId": "84fd79a6-7880-41ef-c427-63762cbaeb28"
      },
      "execution_count": null,
      "outputs": [
        {
          "output_type": "stream",
          "name": "stdout",
          "text": [
            "object\n",
            "Tabela de Medidas Estatísticas para a variável 'Semestres Faltantes':\n",
            "+-------------------------+----------------------------------------+\n",
            "|   Medida Estatística    |                 Valor                  |\n",
            "+-------------------------+----------------------------------------+\n",
            "|          Média          |                  6.0                   |\n",
            "|         Mediana         |                  7.0                   |\n",
            "|          Moda           |                  7.0                   |\n",
            "|        Amplitude        |                  10.0                  |\n",
            "|      Desvio-padrão      |                  2.4                   |\n",
            "| Coeficiente de Variação |                  40.0                  |\n",
            "| Intervalo de confiança  | (5.502974077889715, 6.497025922110285) |\n",
            "+-------------------------+----------------------------------------+\n"
          ]
        }
      ]
    },
    {
      "cell_type": "code",
      "source": [
        "\n",
        "\n",
        "dados = pd.read_csv('seu_arquivo.csv')\n",
        "\n",
        "# Estatísticas Descritivas para a variável 'n_cadeiras'\n",
        "estatisticas_descritivas = dados.groupby('curso_tratado')['n_cadeiras'].describe()\n",
        "\n",
        "print(\"Estatísticas Descritivas para 'n_cadeiras' por 'curso_tratado':\")\n",
        "print(tabulate(estatisticas_descritivas, headers='keys', tablefmt='pretty', showindex=True))\n"
      ],
      "metadata": {
        "id": "LsTZ56WNPGvR"
      },
      "execution_count": null,
      "outputs": []
    },
    {
      "cell_type": "markdown",
      "source": [
        "Os dados fornecem informações sobre o número de semestres faltantes para os respondentes. A média de semestres faltantes é de 5.9, com uma mediana de 6.5 e moda de 7.0. Isso sugere uma distribuição inclinada para a direita, com a maioria dos respondentes indicando um número maior de semestres faltantes.\n",
        "\n",
        "O desvio-padrão de 2.4 indica uma dispersão moderada dos dados em torno da média, enquanto o coeficiente de variação de 40.7% indica uma variabilidade relativa considerável em relação à média.\n",
        "\n",
        "O intervalo de confiança calculado para o número de semestres faltantes, com 95% de confiança, varia de aproximadamente 5.43 a 6.37. Isso significa que podemos ter um alto grau de confiança de que a média populacional do número de semestres faltantes está dentro desse intervalo, com base na amostra coletada."
      ],
      "metadata": {
        "id": "g-WXZl4sLAji"
      }
    },
    {
      "cell_type": "markdown",
      "source": [],
      "metadata": {
        "id": "XtV68Q-2ERw-"
      }
    },
    {
      "cell_type": "markdown",
      "source": [
        "# Método de organização"
      ],
      "metadata": {
        "id": "P-bbAFm2ETj-"
      }
    },
    {
      "cell_type": "code",
      "source": [
        "frequencia_absoluta = dados['metodo_organizacao'].value_counts()\n",
        "frequencia_relativa = (frequencia_absoluta / frequencia_absoluta.sum()).round(2)\n",
        "\n",
        "tamanho_amostra = len(dados)\n",
        "proporcao = frequencia_absoluta / tamanho_amostra\n",
        "z_score = stats.norm.ppf(0.975)\n",
        "erro_padrao = np.sqrt(proporcao * (1 - proporcao) / tamanho_amostra)\n",
        "margem_erro = z_score * erro_padrao\n",
        "intervalo_confianca_inferior = (proporcao - margem_erro).round(2)\n",
        "intervalo_confianca_superior = (proporcao + margem_erro).round(2)\n",
        "intervalo_confianca = list(zip(intervalo_confianca_inferior, intervalo_confianca_superior))\n",
        "\n",
        "tabela_final = pd.DataFrame({\n",
        "    'Método de organização': frequencia_absoluta.index,\n",
        "    'Frequência absoluta': frequencia_absoluta.values,\n",
        "    'Frequência relativa': frequencia_relativa.values,\n",
        "    'Intervalo de Confiança': intervalo_confianca\n",
        "})\n",
        "\n",
        "print(\"Tabela de Frequência Absoluta e Relativa para a Variável 'Método de organização':\")\n",
        "print(tabulate(tabela_final, headers='keys', tablefmt='pretty', showindex=False))"
      ],
      "metadata": {
        "id": "1BXhLT77EW2U",
        "colab": {
          "base_uri": "https://localhost:8080/"
        },
        "outputId": "50617c09-90e6-4a57-d40e-2fb0bbb2f9e8"
      },
      "execution_count": null,
      "outputs": [
        {
          "output_type": "stream",
          "name": "stdout",
          "text": [
            "Tabela de Frequência Absoluta e Relativa para a Variável 'Método de organização':\n",
            "+--------------------------+---------------------+---------------------+------------------------+\n",
            "|  Método de organização   | Frequência absoluta | Frequência relativa | Intervalo de Confiança |\n",
            "+--------------------------+---------------------+---------------------+------------------------+\n",
            "|       Não organizo       |         33          |        0.36         |      (0.26, 0.46)      |\n",
            "|        Aplicativo        |         33          |        0.36         |      (0.26, 0.46)      |\n",
            "| Agenda/planner físico(a) |         26          |        0.28         |      (0.19, 0.37)      |\n",
            "+--------------------------+---------------------+---------------------+------------------------+\n"
          ]
        }
      ]
    },
    {
      "cell_type": "markdown",
      "source": [
        "Os resultados revelam que a maioria dos respondentes utiliza métodos de organização, sendo que 37 deles afirmaram não utilizar nenhum método específico, representando 36% das respostas. Além disso, 35 respondentes afirmaram utilizar aplicativos para se organizar, o que corresponde a 34% das respostas. Por fim, 30 respondentes utilizam agenda ou planner físico, representando 29% das respostas.\n",
        "\n",
        "Esses dados fornecem uma visão abrangente dos métodos de organização mais comuns entre os respondentes, destacando a preferência por métodos digitais, como aplicativos, e métodos tradicionais, como agenda ou planner físico.\n",
        "\n",
        "Os intervalos de confiança calculados para cada método de organização indicam a variabilidade em torno das proporções amostrais com 95% de confiança. Isso fornece uma estimativa da robustez dos resultados e destaca a confiabilidade das proporções amostrais estimadas."
      ],
      "metadata": {
        "id": "3L0qBFf8EcEZ"
      }
    },
    {
      "cell_type": "markdown",
      "source": [
        "# Satisfação com organização de tempo (de 1 a 5)"
      ],
      "metadata": {
        "id": "a6emLuTtDlYq"
      }
    },
    {
      "cell_type": "code",
      "source": [
        "satisfacao = dados['satisfacao']\n",
        "print(dados['satisfacao'].dtype)\n",
        "dados['satisfacao'] = pd.to_numeric(dados['satisfacao'], errors='coerce')\n",
        "\n",
        "media = round(float(dados['satisfacao'].mean()), 1)\n",
        "mediana = round(float(dados['satisfacao'].median()), 1)\n",
        "moda = dados['satisfacao'].mode()[0]\n",
        "\n",
        "amplitude = round(float(dados['satisfacao'].max() - dados['satisfacao'].min()), 1)\n",
        "desvio_padrao = round(float(dados['satisfacao'].std()), 1)\n",
        "coef_variacao = round(float((desvio_padrao / media) * 100), 1)\n",
        "\n",
        "graus_liberdade = len(dados['satisfacao']) - 1\n",
        "intervalo_confianca = stats.t.interval(0.95, graus_liberdade, loc=media, scale=desvio_padrao / np.sqrt(len(dados['satisfacao'])))\n",
        "\n",
        "tabela_medidas = pd.DataFrame({\n",
        "    'Medida Estatística': ['Média', 'Mediana', 'Moda', 'Amplitude', 'Desvio-padrão', 'Coeficiente de Variação', 'Intervalo de Confiança'],\n",
        "    'Valor': [media, mediana, moda, amplitude, desvio_padrao, coef_variacao, intervalo_confianca]\n",
        "})\n",
        "\n",
        "print(\"Tabela de Medidas Estatísticas para a variável 'Satisfação':\")\n",
        "print(tabulate(tabela_medidas, headers='keys', tablefmt='pretty', showindex=False))"
      ],
      "metadata": {
        "id": "alocMyNt4OPZ",
        "colab": {
          "base_uri": "https://localhost:8080/"
        },
        "outputId": "ac86c47f-8b77-44d2-f4a6-a1571a28540f"
      },
      "execution_count": null,
      "outputs": [
        {
          "output_type": "stream",
          "name": "stdout",
          "text": [
            "int64\n",
            "Tabela de Medidas Estatísticas para a variável 'Satisfação':\n",
            "+-------------------------+----------------------------------------+\n",
            "|   Medida Estatística    |                 Valor                  |\n",
            "+-------------------------+----------------------------------------+\n",
            "|          Média          |                  2.9                   |\n",
            "|         Mediana         |                  3.0                   |\n",
            "|          Moda           |                   3                    |\n",
            "|        Amplitude        |                  4.0                   |\n",
            "|      Desvio-padrão      |                  1.0                   |\n",
            "| Coeficiente de Variação |                  34.5                  |\n",
            "| Intervalo de Confiança  | (2.692905865787381, 3.107094134212619) |\n",
            "+-------------------------+----------------------------------------+\n"
          ]
        }
      ]
    },
    {
      "cell_type": "markdown",
      "source": [
        "Os dados revelam que a média de satisfação dos respondentes é de 2.9, enquanto a mediana e a moda são 3.0. Isso sugere que a maioria dos respondentes classificou sua satisfação em torno desse valor, indicando uma tendência central para a avaliação da satisfação.\n",
        "\n",
        "A amplitude dos dados é de 4.0, o que significa que a variação entre as respostas mais baixas e mais altas é de 4 unidades na escala de satisfação.\n",
        "\n",
        "O desvio-padrão é de 1.0, o que indica uma dispersão moderada dos dados em relação à média. Isso sugere que as respostas estão relativamente próximas da média, mas ainda há uma quantidade significativa de variação.\n",
        "\n",
        "O coeficiente de variação é de 34.5%, o que indica a variabilidade relativa dos dados em relação à média. Quanto maior o coeficiente de variação, maior a dispersão dos dados.\n",
        "\n",
        "Além disso, o intervalo de confiança para a satisfação dos respondentes está entre 2.703 e 3.096 com 95% de confiança. Isso significa que, com 95% de certeza, a verdadeira média de satisfação da população está dentro desse intervalo. Essa informação é crucial para avaliar a confiabilidade e a validade das conclusões derivadas dos dados de satisfação."
      ],
      "metadata": {
        "id": "JcntcvhkFGbF"
      }
    },
    {
      "cell_type": "markdown",
      "source": [
        "# Desejos de tempo extra"
      ],
      "metadata": {
        "id": "uzD8gXwvD1eb"
      }
    },
    {
      "cell_type": "code",
      "source": [
        "dados_respostas = dados['desejo'].str.split(',').explode().str.strip()\n",
        "frequencia_absoluta = dados_respostas.value_counts()\n",
        "frequencia_relativa = (frequencia_absoluta / len(dados_respostas) * 100).round(2)\n",
        "\n",
        "tamanho_amostra = len(dados_respostas)\n",
        "proporcao = frequencia_absoluta / tamanho_amostra\n",
        "z_score = stats.norm.ppf(0.975)\n",
        "erro_padrao = np.sqrt(proporcao * (1 - proporcao) / tamanho_amostra)\n",
        "margem_erro = z_score * erro_padrao\n",
        "intervalo_confianca_inferior = (proporcao - margem_erro).round(3)\n",
        "intervalo_confianca_superior = (proporcao + margem_erro).round(3)\n",
        "\n",
        "tabela_final = pd.DataFrame({\n",
        "    'Desejo': frequencia_absoluta.index,\n",
        "    'Frequência Absoluta': frequencia_absoluta.values,\n",
        "    'Frequência Relativa (%)': frequencia_relativa.values,\n",
        "    'Intervalo de Confiança': list(zip(intervalo_confianca_inferior, intervalo_confianca_superior))\n",
        "})\n",
        "\n",
        "print(\"Tabela de Frequência Absoluta e Relativa para a Variável 'Desejo':\")\n",
        "print(tabulate(tabela_final, headers='keys', tablefmt='pretty', showindex=False))"
      ],
      "metadata": {
        "id": "RR72IcBdDu2O",
        "colab": {
          "base_uri": "https://localhost:8080/"
        },
        "outputId": "0b998bbb-cff1-40d6-867f-1c206ab03edf"
      },
      "execution_count": null,
      "outputs": [
        {
          "output_type": "stream",
          "name": "stdout",
          "text": [
            "Tabela de Frequência Absoluta e Relativa para a Variável 'Desejo':\n",
            "+----------------------------+---------------------+-------------------------+------------------------+\n",
            "|           Desejo           | Frequência Absoluta | Frequência Relativa (%) | Intervalo de Confiança |\n",
            "+----------------------------+---------------------+-------------------------+------------------------+\n",
            "|          Descanso          |         59          |          20.21          |     (0.156, 0.248)     |\n",
            "|           Lazer            |         53          |          18.15          |     (0.137, 0.226)     |\n",
            "|  Desenvolvimento pessoal   |         50          |          17.12          |     (0.128, 0.214)     |\n",
            "|          Estudos           |         48          |          16.44          |     (0.122, 0.207)     |\n",
            "|           Saúde            |         42          |          14.38          |     (0.104, 0.184)     |\n",
            "|          Família           |         34          |          11.64          |     (0.08, 0.153)      |\n",
            "| Não preciso de tempo extra |          5          |          1.71           |     (0.002, 0.032)     |\n",
            "|      Exercício Físico      |          1          |          0.34           |     (-0.003, 0.01)     |\n",
            "+----------------------------+---------------------+-------------------------+------------------------+\n"
          ]
        }
      ]
    },
    {
      "cell_type": "markdown",
      "source": [
        "Os resultados revelam que o desejo mais mencionado é \"Descanso\", com 66 respostas, seguido por \"Lazer\" e \"Desenvolvimento pessoal\" com 59 e 54 respostas, respectivamente. \"Estudos\" também é uma categoria popular, com 54 respostas. \"Saúde\" recebeu 47 respostas, enquanto \"Família\" obteve 38 respostas. As categorias menos mencionadas foram \"Não preciso de tempo extra\", \"Debater mais\", \"Exercício Físico\" e \"Arte e projetos pessoais\", cada uma com apenas 1 resposta.\n",
        "\n",
        "Em termos percentuais, \"Descanso\" representa 20,25% das respostas, seguido por \"Lazer\" com 18,1%, \"Desenvolvimento pessoal\" e \"Estudos\" com 16,56% cada. \"Saúde\" corresponde a 14,42% das respostas, enquanto \"Família\" representa 11,66%. As categorias menos mencionadas têm uma porcentagem menor, variando de 0,31% a 1,53%.\n",
        "\n",
        "Os intervalos de confiança, calculados com 95% de confiança, indicam que as proporções de respostas para cada categoria estão dentro dos intervalos calculados, fortalecendo a confiabilidade dos resultados. Essa análise aumenta a validade das conclusões derivadas das respostas coletadas, oferecendo insights significativos sobre as preferências e necessidades dos respondentes."
      ],
      "metadata": {
        "id": "P8wsXgmVVsmj"
      }
    },
    {
      "cell_type": "markdown",
      "source": [
        "# Maior dificuldade na organização"
      ],
      "metadata": {
        "id": "9DlscMHMMHiS"
      }
    },
    {
      "cell_type": "code",
      "source": [
        "dados_respostas = dados['dificuldade'].str.split(',').explode().reset_index(drop=True)\n",
        "dados_respostas = dados_respostas.str.strip()\n",
        "frequencia_absoluta = dados_respostas.value_counts()\n",
        "frequencia_relativa = (frequencia_absoluta / frequencia_absoluta.sum()).round(3)\n",
        "\n",
        "tamanho_amostra = len(dados_respostas)\n",
        "proporcao = frequencia_absoluta / tamanho_amostra\n",
        "z_score = stats.norm.ppf(0.975)\n",
        "erro_padrao = np.sqrt(proporcao * (1 - proporcao) / tamanho_amostra)\n",
        "margem_erro = z_score * erro_padrao\n",
        "intervalo_confianca_inferior = (proporcao - margem_erro).round(3)\n",
        "intervalo_confianca_superior = (proporcao + margem_erro).round(3)\n",
        "intervalo_confianca = list(zip(intervalo_confianca_inferior, intervalo_confianca_superior))\n",
        "\n",
        "tabela_final = pd.DataFrame({\n",
        "    'Dificuldade': frequencia_absoluta.index,\n",
        "    'Frequência absoluta': frequencia_absoluta.values,\n",
        "    'Frequência relativa': frequencia_relativa.values,\n",
        "    'Intervalo de Confiança': intervalo_confianca\n",
        "})\n",
        "\n",
        "print(\"Tabela de Frequência Absoluta e Relativa para a Variável 'Dificuldade':\")\n",
        "print(tabulate(tabela_final, headers='keys', tablefmt='pretty', showindex=False))"
      ],
      "metadata": {
        "id": "u2WRA6CMMW_9",
        "colab": {
          "base_uri": "https://localhost:8080/"
        },
        "outputId": "ab5b36c7-3906-4e65-f223-e2e40928c45b"
      },
      "execution_count": null,
      "outputs": [
        {
          "output_type": "stream",
          "name": "stdout",
          "text": [
            "Tabela de Frequência Absoluta e Relativa para a Variável 'Dificuldade':\n",
            "+-----------------------+---------------------+---------------------+------------------------+\n",
            "|      Dificuldade      | Frequência absoluta | Frequência relativa | Intervalo de Confiança |\n",
            "+-----------------------+---------------------+---------------------+------------------------+\n",
            "|       Faculdade       |         60          |        0.288        |     (0.227, 0.35)      |\n",
            "|    Procrastinação     |         48          |        0.231        |     (0.174, 0.288)     |\n",
            "|    Desorganização     |         29          |        0.139        |     (0.092, 0.186)     |\n",
            "|       Trabalho        |         28          |        0.135        |     (0.088, 0.181)     |\n",
            "|     Saúde mental      |         28          |        0.135        |     (0.088, 0.181)     |\n",
            "| Obrigações familiares |         14          |        0.067        |     (0.033, 0.101)     |\n",
            "| Prefiro não responder |          1          |        0.005        |    (-0.005, 0.014)     |\n",
            "+-----------------------+---------------------+---------------------+------------------------+\n"
          ]
        }
      ]
    },
    {
      "cell_type": "markdown",
      "source": [
        "Os resultados mostram um número significativamente maior de respostas associadas à categoria \"Faculdade\", com 64 respostas, seguida por \"Procrastinação\" com 53 respostas, \"Desorganização\" com 32 respostas, \"Trabalho\" com 31 respostas e \"Saúde mental\" com 30 respostas. As categorias menos mencionadas foram \"Obrigações familiares\" com 15 respostas e \"Prefiro não responder\" com apenas 1 resposta.\n",
        "\n",
        "Em termos percentuais, as respostas indicam que a categoria \"Faculdade\" representa 28,3% do total, seguida por \"Procrastinação\" com 23,5%, \"Desorganização\" com 14,2%, \"Trabalho\" com 13,7% e \"Saúde mental\" com 13,3%. As categorias menos mencionadas representam uma porcentagem menor, com \"Obrigações familiares\" representando 6,6% e \"Prefiro não responder\" representando apenas 0,4%.\n",
        "\n",
        "Os intervalos de confiança, calculados com 95% de confiança, oferecem uma estimativa da variação em torno das proporções amostrais. Eles sugerem que as proporções de respostas para cada categoria estão dentro dos intervalos calculados, fortalecendo a confiabilidade dos resultados. Essa análise aumenta a validade das conclusões obtidas a partir das respostas coletadas, proporcionando uma compreensão mais robusta das tendências identificadas."
      ],
      "metadata": {
        "id": "y4lYnIGiMUBn"
      }
    },
    {
      "cell_type": "code",
      "source": [
        "from scipy.stats import pearsonr\n",
        "import statsmodels.api as sm\n",
        "\n",
        "df = dados[['n_cadeiras', 'semestres_faltantes']].dropna()\n",
        "\n",
        "# Calculando o coeficiente de correlação de Pearson\n",
        "corr_coefficient, p_value = pearsonr(df['n_cadeiras'], df['semestres_faltantes'])\n",
        "print(f'Coeficiente de Correlação de Pearson: {corr_coefficient:.2f}')\n",
        "print(f'Valor-p: {p_value:.3f}')\n",
        "\n",
        "# Definindo as variáveis independentes e dependentes\n",
        "X = df['n_cadeiras']\n",
        "y = df['semestres_faltantes']\n",
        "\n",
        "# Adicionando uma constante para o modelo\n",
        "X = sm.add_constant(X)\n",
        "model = sm.OLS(y, X).fit()\n",
        "predictions = model.predict(X)\n",
        "\n",
        "# Resumo do modelo\n",
        "print(model.summary())\n",
        "\n",
        "# Criando o gráfico de dispersão e a linha de regressão\n",
        "plt.figure(figsize=(10, 6))\n",
        "sns.scatterplot(x='n_cadeiras', y='semestres_faltantes', data=df, color='blue', s=100)\n",
        "plt.plot(df['n_cadeiras'], predictions, color='red', linestyle='--', linewidth=2)\n",
        "plt.title('Relação entre Número de Matérias e Semestres Faltantes')\n",
        "plt.xlabel('Número de Matérias')\n",
        "plt.ylabel('Semestres Faltantes')\n",
        "plt.grid(True)\n",
        "plt.show()"
      ],
      "metadata": {
        "id": "vbGpuIvp9NCv",
        "colab": {
          "base_uri": "https://localhost:8080/",
          "height": 1000
        },
        "outputId": "e53c0850-e12c-400d-9a73-7093ec48809c"
      },
      "execution_count": null,
      "outputs": [
        {
          "output_type": "stream",
          "name": "stdout",
          "text": [
            "Coeficiente de Correlação de Pearson: 0.14\n",
            "Valor-p: 0.206\n",
            "                             OLS Regression Results                            \n",
            "===============================================================================\n",
            "Dep. Variable:     semestres_faltantes   R-squared:                       0.019\n",
            "Model:                             OLS   Adj. R-squared:                  0.007\n",
            "Method:                  Least Squares   F-statistic:                     1.624\n",
            "Date:                 Wed, 10 Jul 2024   Prob (F-statistic):              0.206\n",
            "Time:                         19:05:30   Log-Likelihood:                -198.96\n",
            "No. Observations:                   88   AIC:                             401.9\n",
            "Df Residuals:                       86   BIC:                             406.9\n",
            "Df Model:                            1                                         \n",
            "Covariance Type:             nonrobust                                         \n",
            "==============================================================================\n",
            "                 coef    std err          t      P>|t|      [0.025      0.975]\n",
            "------------------------------------------------------------------------------\n",
            "const          5.0481      0.796      6.341      0.000       3.466       6.631\n",
            "n_cadeiras     0.1550      0.122      1.275      0.206      -0.087       0.397\n",
            "==============================================================================\n",
            "Omnibus:                        6.137   Durbin-Watson:                   1.833\n",
            "Prob(Omnibus):                  0.046   Jarque-Bera (JB):                2.940\n",
            "Skew:                          -0.166   Prob(JB):                        0.230\n",
            "Kurtosis:                       2.169   Cond. No.                         21.3\n",
            "==============================================================================\n",
            "\n",
            "Notes:\n",
            "[1] Standard Errors assume that the covariance matrix of the errors is correctly specified.\n"
          ]
        },
        {
          "output_type": "display_data",
          "data": {
            "text/plain": [
              "<Figure size 1000x600 with 1 Axes>"
            ],
            "image/png": "[encoded data removed]"
          },
          "metadata": {}
        }
      ]
    },
    {
      "cell_type": "code",
      "source": [
        "dados['satisfacao'] = dados['satisfacao'].astype('category')\n",
        "plt.figure(figsize=(12, 6))\n",
        "sns.boxplot(x='t_deslocamento', y='satisfacao', data=dados)\n",
        "plt.title('Distribuição do Tempo de Deslocamento por Nível de Satisfação')\n",
        "plt.xlabel('Tempo de Deslocamento')\n",
        "plt.ylabel('Nível de Satisfação')\n",
        "plt.yticks(ticks=np.arange(1, 6), labels=np.arange(1, 6), fontsize=10)\n",
        "plt.tight_layout()\n",
        "plt.savefig('boxplot_anova.png')\n",
        "plt.show()\n"
      ],
      "metadata": {
        "colab": {
          "base_uri": "https://localhost:8080/",
          "height": 607
        },
        "id": "W9AbApPGXLxb",
        "outputId": "18ff1a35-cf4d-4b82-a37f-7244bddc886d"
      },
      "execution_count": null,
      "outputs": [
        {
          "output_type": "display_data",
          "data": {
            "text/plain": [
              "<Figure size 1200x600 with 1 Axes>"
            ],
            "image/png": "[encoded data removed]"
          },
          "metadata": {}
        }
      ]
    },
    {
      "cell_type": "code",
      "source": [
        "grupos = [dados[dados['t_deslocamento'] == categoria]['satisfacao'] for categoria in dados['t_deslocamento'].unique()]\n",
        "f_statistic, p_value = stats.f_oneway(*grupos)\n",
        "print(f'F-statistic: {f_statistic}')\n",
        "print(f'P-value: {p_value}')\n"
      ],
      "metadata": {
        "colab": {
          "base_uri": "https://localhost:8080/"
        },
        "id": "pPhpIaoLZr9z",
        "outputId": "31e1a028-ebcf-4e7f-d5e9-11b08f3c140b"
      },
      "execution_count": null,
      "outputs": [
        {
          "output_type": "stream",
          "name": "stdout",
          "text": [
            "F-statistic: 1.5884049702456124\n",
            "P-value: 0.19707437758604793\n"
          ]
        }
      ]
    },
    {
      "cell_type": "markdown",
      "source": [
        "**Interpretação**\n",
        "\n",
        "F-statistic (1.588): A estatística F indica a razão entre a variabilidade entre os grupos e a variabilidade dentro dos grupos. Um valor de 1.588 sugere que a variabilidade entre os grupos é relativamente pequena em comparação com a variabilidade interna dos grupos.\n",
        "\n",
        "P-value (0.197): O valor-p é a probabilidade de observar os dados ou algo mais extremo se a hipótese nula for verdadeira. Neste caso, o valor-p é 0.197, que é maior do que o nível de significância comum de 0,05.\n",
        "\n",
        "**Conclusão**\n",
        "\n",
        "Como o valor-p (0.197) é maior que 0,05, não há evidências suficientes para rejeitar a hipótese nula. Isso significa que\n",
        "não há diferença estatisticamente significativa nos níveis de satisfação entre os diferentes tempos de deslocamento."
      ],
      "metadata": {
        "id": "0gtfVXFTaX4M"
      }
    }
  ]
}